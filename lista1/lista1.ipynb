{
 "cells": [
  {
   "cell_type": "markdown",
   "metadata": {},
   "source": [
    "# Lista 1 \n",
    "## Obliczenia naukowe\n",
    "**Patryk Majewski, 250134**"
   ]
  },
  {
   "cell_type": "markdown",
   "metadata": {},
   "source": [
    "## Zadanie 1\n",
    "Celem zadania było wyznaczenie w sposób iteracyjny niektórych wartości charakteryzujących arytmetykę.\n",
    "### Epsilon maszynowy\n",
    "Pierwszą z nich był **macheps**, czyli najmniejsza taka liczba $\\epsilon$, że $ 1 + \\epsilon > 1 $. Epsilon jest zatem odległością od 1 do najmniejszej liczby większej od 1 możliwej do zapisania w danej arytmetyce. Liczba 1 ma w zapisie dwójkowym mantysę wypełnioną zerami:"
   ]
  },
  {
   "cell_type": "code",
   "execution_count": 1,
   "metadata": {},
   "outputs": [
    {
     "data": {
      "text/plain": [
       "\"0011110000000000\""
      ]
     },
     "execution_count": 1,
     "metadata": {},
     "output_type": "execute_result"
    }
   ],
   "source": [
    "bitstring(Float16(1.0))"
   ]
  },
  {
   "cell_type": "markdown",
   "metadata": {},
   "source": [
    "dlatego spodziewać się można, że $1+\\epsilon$ różni się od niej jej najmłodszym bitem. Sprawdzanie epsilonów rozpoczniemy od wartości 1, a kolejne konstruować będziemy dzieląc przez 2, co w zapisie dwójkowym odpowiada przesuwaniu jedynej jedynki w mantysie coraz bardziej w prawo. Posłużymy się zatem następującą procedurą:"
   ]
  },
  {
   "cell_type": "code",
   "execution_count": 2,
   "metadata": {
    "scrolled": true
   },
   "outputs": [
    {
     "data": {
      "text/plain": [
       "find_eps (generic function with 1 method)"
      ]
     },
     "execution_count": 2,
     "metadata": {},
     "output_type": "execute_result"
    }
   ],
   "source": [
    "function find_eps(type)\n",
    "    epsilon = type(1.0)\n",
    "    while type(1.0 + 0.5*epsilon) > type(1.0)\n",
    "        epsilon = type(0.5 * epsilon)\n",
    "    end\n",
    "    return epsilon\n",
    "end"
   ]
  },
  {
   "cell_type": "markdown",
   "metadata": {},
   "source": [
    "gdzie argument **type** określa arytmetykę, dla której określić mamy $\\epsilon$. Otrzymane wyniki porównamy z tymi, które zwraca biblioteczna funkcja **eps**:"
   ]
  },
  {
   "cell_type": "code",
   "execution_count": 3,
   "metadata": {},
   "outputs": [
    {
     "name": "stdout",
     "output_type": "stream",
     "text": [
      "Float16\n",
      "iteracyjnie:   0.000977\n",
      "funkcja eps:   0.000977\n",
      "\n",
      "Float32\n",
      "iteracyjnie:   1.1920929e-7\n",
      "funkcja eps:   1.1920929e-7\n",
      "\n",
      "Float64\n",
      "iteracyjnie:   2.220446049250313e-16\n",
      "funkcja eps:   2.220446049250313e-16\n",
      "\n"
     ]
    }
   ],
   "source": [
    "for t in [Float16, Float32, Float64]\n",
    "    println(t)\n",
    "    println(rpad(\"iteracyjnie: \", 15), find_eps(t))\n",
    "    println(rpad(\"funkcja eps: \", 15), eps(t), '\\n')\n",
    "end"
   ]
  },
  {
   "cell_type": "markdown",
   "metadata": {},
   "source": [
    "Wyniki otrzymane iteracyjnie pokrywają się z tymi zwracanymi przez wywołanie **eps**. Porównamy je również z tymi, które określone są w pliku nagłówkowym **float.h** języka C. Skorzystamy z prostego programu odczytującego wartości stałych FLT_EPSILON (odpowiednik Float32), DBL_EPSILON (odpowiednik Float64) oraz LDBL_EPSILON. Typ Float16 nie ma tu swojego odpowiednika.\n",
    "\n",
    "FLT_EPSILON = 1.19209e-07  \n",
    "DBL_EPSILON = 2.22045e-16  \n",
    "LDBL_EPSILON = 1.0842e-19\n",
    "\n",
    "Jak widać, odpowiadające sobie typy mają bardzo zbliżone wartości epsilona maszynowego.\n",
    "***\n",
    "\n",
    "Sprawdzimy teraz związek epsilona maszynowego z precyzją. Precyzją arytmetyki (również oznaczaną jako $\\epsilon$) nazywamy liczbę wyrażoną wzorem\n",
    "\n",
    "$$ \\epsilon = \\frac{1}{2}\\beta^{1-t} $$\n",
    "\n",
    "gdzie $\\beta$ jest bazą rozwinięcia (w naszym przypadku 2), a $t$ oznacza liczbę cyfr mantysy znormalizowanej do przedziału $[1/\\beta,1)$. Dla typów Float16, Float32 i Float64 precyzje arytmetyki wynoszą więc:\n",
    "\n",
    "Float16: $ 2^{-1}\\cdot 2^{1-10} = 2^{-10} $  \n",
    "Float32: $ 2^{-1}\\cdot 2^{1-23} = 2^{-23} $  \n",
    "Float64: $ 2^{-1}\\cdot 2^{1-52} = 2^{-52} $\n",
    "\n",
    "Sprawdźmy teraz wartości wyznaczonych precyzji z dokładnością do odpowiadających im typów: "
   ]
  },
  {
   "cell_type": "code",
   "execution_count": 4,
   "metadata": {},
   "outputs": [
    {
     "name": "stdout",
     "output_type": "stream",
     "text": [
      "Float16: 0.000977\n",
      "Float32: 1.1920929e-7\n",
      "Float64: 2.220446049250313e-16\n"
     ]
    }
   ],
   "source": [
    "println(\"Float16: \", Float16(2^-10))\n",
    "println(\"Float32: \", Float32(2^-23))\n",
    "println(\"Float64: \", Float64(2^-52))"
   ]
  },
  {
   "cell_type": "markdown",
   "metadata": {},
   "source": [
    "Otrzymane wartości precyzji pokrywają się z wcześniej wyznaczonymi epsilonami maszynowymi, zatem możemy wnioskować, że dla danej arytmetyki macheps jest równy jej precyzji. "
   ]
  },
  {
   "cell_type": "markdown",
   "metadata": {},
   "source": [
    "### Liczba eta\n",
    "Kolejną wartością do ustalenia była **liczba eta**, czyli najmniejsza $\\eta$ taka, że $\\eta > 0$. Intuicja jest podobna jak w przypadku epsilona (mantysa liczby 0 wypełniona jest zerami), zatem zastosowana metoda jest zupełnie analogiczna:"
   ]
  },
  {
   "cell_type": "code",
   "execution_count": 5,
   "metadata": {},
   "outputs": [
    {
     "data": {
      "text/plain": [
       "find_eta (generic function with 1 method)"
      ]
     },
     "execution_count": 5,
     "metadata": {},
     "output_type": "execute_result"
    }
   ],
   "source": [
    "function find_eta(type)\n",
    "    eta = type(1.0)\n",
    "    while type(0.5*eta) > 0\n",
    "        eta = type(0.5*eta)\n",
    "    end\n",
    "    return eta\n",
    "end"
   ]
  },
  {
   "cell_type": "markdown",
   "metadata": {},
   "source": [
    "Podobnie jak w przypadku epsilona, uzyskane wartości porównamy z wywołaniami funkcji bibliotecznych:"
   ]
  },
  {
   "cell_type": "code",
   "execution_count": 6,
   "metadata": {},
   "outputs": [
    {
     "name": "stdout",
     "output_type": "stream",
     "text": [
      "Float16\n",
      "iteracyjnie:   6.0e-8\n",
      "nextfloat(0):  6.0e-8\n",
      "\n",
      "Float32\n",
      "iteracyjnie:   1.0e-45\n",
      "nextfloat(0):  1.0e-45\n",
      "\n",
      "Float64\n",
      "iteracyjnie:   5.0e-324\n",
      "nextfloat(0):  5.0e-324\n",
      "\n"
     ]
    }
   ],
   "source": [
    "for t in [Float16, Float32, Float64]\n",
    "    println(t)\n",
    "    println(rpad(\"iteracyjnie: \", 15), find_eta(t))\n",
    "    println(rpad(\"nextfloat(0): \", 15), nextfloat(t(0.0)), '\\n')\n",
    "end"
   ]
  },
  {
   "cell_type": "markdown",
   "metadata": {},
   "source": [
    "Również w tym przypadku wyniki są zbieżne.\n",
    "***\n",
    "Sprawdzimy związek liczby eta z MIN$_{sub}$. Jest ona najmniejszą dla arytmetyki liczbą w postaci nieznormalizowanej, to znaczy taką, że przedstawienie jej w postaci znormalizowanej wymagałoby użycia wykładnika mniejszego niż jest to dopuszczalne. Oblicza się ją następująco:\n",
    "\n",
    "$$ \\mathrm{MIN}_{sub} = 2^{1-t}\\cdot2^{c_{min}} $$\n",
    "\n",
    "gdzie $t$ jest liczbą cyfr mantysy (z przedziału $[1,2)$), a $c_{min}$ minimalną możliwą do zapisania cechą wyznaczaną ze wzoru\n",
    "\n",
    "$$ c_{min} = -2^{d-1}+2 $$\n",
    "\n",
    "w którym $d$ oznacza liczbę bitów przeznaczonych na zapis cechy. Dla typów języka Julia mamy zatem:\n",
    "\n",
    "Float16:  \n",
    "$c_{min} = -2^{5-1}+2 = -14$  \n",
    "MIN$_{sub} = 2^{-10}\\cdot2^{-14} = 2^{-24} $\n",
    "\n",
    "Float32:  \n",
    "$c_{min} = -2^{8-1}+2 = -126$  \n",
    "MIN$_{sub} = 2^{-23}\\cdot2^{-126} = 2^{-149} $\n",
    "\n",
    "Float64:  \n",
    "$c_{min} = -2^{11-1}+2 = -1022$  \n",
    "MIN$_{sub} = 2^{-52}\\cdot2^{-1022} = 2^{-1074} $"
   ]
  },
  {
   "cell_type": "code",
   "execution_count": 7,
   "metadata": {},
   "outputs": [
    {
     "name": "stdout",
     "output_type": "stream",
     "text": [
      "Float16: 6.0e-8\n",
      "Float32: 1.0e-45\n",
      "Float64: 5.0e-324\n"
     ]
    }
   ],
   "source": [
    "println(\"Float16: \", Float16(2^-24))\n",
    "println(\"Float32: \", Float32(2^-149))\n",
    "println(\"Float64: \", Float64(2^-1074))"
   ]
  },
  {
   "cell_type": "markdown",
   "metadata": {},
   "source": [
    "Obliczone wartości pokrywają się z poprzednimi, co sugeruje, że MIN$_{sub}$ danej arytmetyki jest równy jej liczbie eta.\n",
    "***\n",
    "Sprawdzimy teraz, czy te same wartości zwróci funkcja **floatmin**:"
   ]
  },
  {
   "cell_type": "code",
   "execution_count": 8,
   "metadata": {},
   "outputs": [
    {
     "name": "stdout",
     "output_type": "stream",
     "text": [
      "Float16: 6.104e-5\n",
      "Float32: 1.1754944e-38\n",
      "Float64: 2.2250738585072014e-308\n"
     ]
    }
   ],
   "source": [
    "for t in [Float16, Float32, Float64]\n",
    "    println(\"$t: \", floatmin(t))\n",
    "end"
   ]
  },
  {
   "cell_type": "markdown",
   "metadata": {},
   "source": [
    "Możemy zauważyć, że otrzymane wyniki są zdecydowanie większe od poprzednich. Ponadto"
   ]
  },
  {
   "cell_type": "code",
   "execution_count": 9,
   "metadata": {},
   "outputs": [
    {
     "data": {
      "text/plain": [
       "\"0000010000000000\""
      ]
     },
     "execution_count": 9,
     "metadata": {},
     "output_type": "execute_result"
    }
   ],
   "source": [
    "bitstring(floatmin(Float16))"
   ]
  },
  {
   "cell_type": "markdown",
   "metadata": {},
   "source": [
    "co pozwala przypuszczać, że wartości te mają formę znormalizowaną. Sprawdzimy ich związek z MIN$_{nor}$, czyli najmniejszą możliwą do zapisania liczbą w postaci znormalizowanej, wyznaczaną ze wzoru\n",
    "\n",
    "$$\\mathrm{MIN}_{nor} = 2^{c_{min}}$$\n",
    "\n",
    "gdzie $c_{min}$ obliczane jest tak samo jak dla MIN$_{sub}$. Mamy zatem:\n",
    "\n",
    "Float16:  \n",
    "MIN$_{nor} = 2^{-14} $\n",
    "\n",
    "Float32:  \n",
    "MIN$_{nor} = 2^{-126} $\n",
    "\n",
    "Float64:  \n",
    "MIN$_{nor} = 2^{-1022} $"
   ]
  },
  {
   "cell_type": "code",
   "execution_count": 10,
   "metadata": {},
   "outputs": [
    {
     "name": "stdout",
     "output_type": "stream",
     "text": [
      "Float16: 6.104e-5\n",
      "Float32: 1.1754944e-38\n",
      "Float64: 2.2250738585072014e-308\n"
     ]
    }
   ],
   "source": [
    "println(\"Float16: \", Float16(2^-14))\n",
    "println(\"Float32: \", Float32(2^-126))\n",
    "println(\"Float64: \", Float64(2^-1022))"
   ]
  },
  {
   "cell_type": "markdown",
   "metadata": {},
   "source": [
    "Wartości zwracane przez **floatmin** dla danej arytmetyki równe są zatem jej MIN$_{nor}$."
   ]
  },
  {
   "cell_type": "markdown",
   "metadata": {},
   "source": [
    "### Największa liczba możliwa do wyrażenia\n",
    "Ostatnią poszukiwaną wartością była **MAX**, czyli największa możliwa do wyrażenia liczba dla danej arytmetyki. Intuicja podpowiada, że będzie to liczba, której cecha ma maksymalną dopuszczalną wartość, a mantysa składa się z samych jedynek. Celem wygenerowania pierwszej takiej liczby posłużymy się funkcją **prevfloat(1)**:"
   ]
  },
  {
   "cell_type": "code",
   "execution_count": 11,
   "metadata": {},
   "outputs": [
    {
     "data": {
      "text/plain": [
       "\"0011101111111111\""
      ]
     },
     "execution_count": 11,
     "metadata": {},
     "output_type": "execute_result"
    }
   ],
   "source": [
    "bitstring(prevfloat(Float16(1.0)))"
   ]
  },
  {
   "cell_type": "markdown",
   "metadata": {},
   "source": [
    "Kolejne liczby konstruować będziemy mnożąc przez 2 (zasadniczo inkrementując cechę). Posłużymy się więc następującą procedurą:"
   ]
  },
  {
   "cell_type": "code",
   "execution_count": 12,
   "metadata": {},
   "outputs": [
    {
     "data": {
      "text/plain": [
       "find_max (generic function with 1 method)"
      ]
     },
     "execution_count": 12,
     "metadata": {},
     "output_type": "execute_result"
    }
   ],
   "source": [
    "function find_max(type)\n",
    "    max = prevfloat(type(1.0))\n",
    "    while !isinf(2*max)\n",
    "        max *= 2\n",
    "    end\n",
    "    return max\n",
    "end"
   ]
  },
  {
   "cell_type": "markdown",
   "metadata": {},
   "source": [
    "Za pomocą funkcji **isinf** sprawdzamy, czy kolejna inkrementacja nie spowoduje utworzenia liczby spoza dostępnego zakresu. Bibliotecznym odpowiednikiem utworzonej funkcji jest **floatmax**:"
   ]
  },
  {
   "cell_type": "code",
   "execution_count": 13,
   "metadata": {},
   "outputs": [
    {
     "name": "stdout",
     "output_type": "stream",
     "text": [
      "Float16\n",
      "iteracyjnie:   6.55e4\n",
      "floatmax:      6.55e4\n",
      "\n",
      "Float32\n",
      "iteracyjnie:   3.4028235e38\n",
      "floatmax:      3.4028235e38\n",
      "\n",
      "Float64\n",
      "iteracyjnie:   1.7976931348623157e308\n",
      "floatmax:      1.7976931348623157e308\n",
      "\n"
     ]
    }
   ],
   "source": [
    "for t in [Float16, Float32, Float64]\n",
    "    println(t)\n",
    "    println(rpad(\"iteracyjnie: \", 15), find_max(t))\n",
    "    println(rpad(\"floatmax: \", 15), floatmax(t), '\\n')\n",
    "end"
   ]
  },
  {
   "cell_type": "markdown",
   "metadata": {},
   "source": [
    "Wyniki są zatem zgodne ze stanem faktycznym. Sprawdzimy jeszcze, jakie wartości maksymalne dla typów float (Float32 w Julii), double (Float64) i long double zostały określone w pliku nagłówkowym **float.h** języka C:  \n",
    "\n",
    "FLT_MAX = 3.40282e+38  \n",
    "DBL_MAX = 1.79769e+308  \n",
    "LDBL_MAX = 1.18973e+4932\n",
    "\n",
    "Podobnie jak w przypadku epsilona, wartości z pliku **float.h** są bardzo zbliżone do tych, które uzyskaliśmy w Julii."
   ]
  },
  {
   "cell_type": "markdown",
   "metadata": {},
   "source": [
    "### Wnioski\n",
    "Reprezentacja określona standardem IEEE-754 ma pewne ograniczenia w zakresie dokładnego wyrażania liczb zmiennoprzecinkowych. Ich efekty są mniej widoczne wraz ze wzrostem liczby bitów przeznaczonych na zapis liczby - zmniejsza się najmniejsza możliwa do wyrażenia liczba dodatnia ($\\eta$) i najmniejsza liczba większa od 1 ($1+\\epsilon$), a także znacząco rośnie największa liczba możliwa do wyrażenia."
   ]
  },
  {
   "cell_type": "markdown",
   "metadata": {},
   "source": [
    "## Zadanie 2\n",
    "Celem zadania było eksperymentalne sprawdzenie prawidłowości wzoru Kahana na epsilon maszynowy:\n",
    "\n",
    "$$ 3\\cdot\\left(\\frac{4}{3}-1\\right)-1 $$\n",
    "\n",
    "Porównamy zatem wyniki dla różnych arytmetyk z wartościami zwracanymi przez funkcję **eps**:"
   ]
  },
  {
   "cell_type": "code",
   "execution_count": 14,
   "metadata": {},
   "outputs": [
    {
     "name": "stdout",
     "output_type": "stream",
     "text": [
      "Float16\n",
      "kahan_eps:     -0.000977\n",
      "eps:           0.000977\n",
      "\n",
      "Float32\n",
      "kahan_eps:     1.1920929e-7\n",
      "eps:           1.1920929e-7\n",
      "\n",
      "Float64\n",
      "kahan_eps:     -2.220446049250313e-16\n",
      "eps:           2.220446049250313e-16\n",
      "\n"
     ]
    }
   ],
   "source": [
    "function kahan_eps(type)\n",
    "    type(3.0) * (type(4.0/3.0) - type(1.0)) - type(1.0)\n",
    "end\n",
    "\n",
    "for t in [Float16, Float32, Float64]\n",
    "    println(t)\n",
    "    println(rpad(\"kahan_eps: \", 15), kahan_eps(t))\n",
    "    println(rpad(\"eps: \", 15), eps(t), '\\n')\n",
    "end"
   ]
  },
  {
   "cell_type": "markdown",
   "metadata": {},
   "source": [
    "Jak widać, wyniki dla trzech sprawdzanych arytmetyk okazały się poprawne co do wartości bezwzględnej."
   ]
  },
  {
   "cell_type": "markdown",
   "metadata": {},
   "source": [
    "## Zadanie 3\n",
    "Sprawdzimy eksperymentalnie, że w arytmetyce Float64 liczby z przedziału $[1,2]$ są równomiernie rozmieszczone z krokiem $ \\delta = 2^{-52} $. Ponieważ sprawdzenie wszystkich dostępnych liczb jest dosyć kosztowne, sprawdzimy wartości wokół końców przedziału:"
   ]
  },
  {
   "cell_type": "code",
   "execution_count": 15,
   "metadata": {},
   "outputs": [
    {
     "name": "stdout",
     "output_type": "stream",
     "text": [
      "Sukces! Liczby są rozmieszczone z krokiem δ.\n"
     ]
    }
   ],
   "source": [
    "# argument func oznacza funkcję kontrolną - podającą prawdziwą wartość kolejnej liczby\n",
    "# przy sprawdzaniu początku przedziału podajemy nextfloat i dodatnią deltę\n",
    "# przy końcu przedziału - prevfloat i deltę ujemną\n",
    "function check_values(start, delta, func)\n",
    "    real = start\n",
    "    for i in 1:100\n",
    "        start += delta\n",
    "        real = func(real)\n",
    "        if start != real\n",
    "            return false\n",
    "        end\n",
    "    end\n",
    "    return true\n",
    "end\n",
    "\n",
    "delta = 2.0^-52\n",
    "if (check_values(1.0, delta, nextfloat) && check_values(2.0, -delta, prevfloat))\n",
    "    println(\"Sukces! Liczby są rozmieszczone z krokiem δ.\")\n",
    "else\n",
    "    println(\"Liczby nie są równomiernie rozmieszczone z krokiem δ.\")\n",
    "end"
   ]
  },
  {
   "cell_type": "markdown",
   "metadata": {},
   "source": [
    "Sprawdźmy, czy ten sam rozmiar kroku dzieli 1 i poprzedzającą ją liczbę:"
   ]
  },
  {
   "cell_type": "code",
   "execution_count": 16,
   "metadata": {},
   "outputs": [
    {
     "data": {
      "text/plain": [
       "false"
      ]
     },
     "execution_count": 16,
     "metadata": {},
     "output_type": "execute_result"
    }
   ],
   "source": [
    "1.0 - delta == prevfloat(1.0)"
   ]
  },
  {
   "cell_type": "code",
   "execution_count": 17,
   "metadata": {},
   "outputs": [
    {
     "name": "stdout",
     "output_type": "stream",
     "text": [
      "0011111111101111111111111111111111111111111111111111111111111111\n",
      "0011111111110000000000000000000000000000000000000000000000000000\n",
      "0011111111110000000000000000000000000000000000000000000000000001\n"
     ]
    }
   ],
   "source": [
    "println(bitstring(prevfloat(1.0)))\n",
    "println(bitstring(1.0))\n",
    "println(bitstring(nextfloat(1.0)))"
   ]
  },
  {
   "cell_type": "markdown",
   "metadata": {},
   "source": [
    "Dwójkowe zapisy tych liczb pozwalają nam poznać przyczynę takiego stanu rzeczy. Krok pomiędzy kolejnymi liczbami zależny jest od ich cechy, to znaczy\n",
    "\n",
    "$$ \\delta = 2^{cecha - 2^{d-1} + 1} \\cdot 2^{1-t} $$\n",
    "\n",
    "gdzie $cecha$ odnosi się do mniejszej z dwóch kolejnych liczb, $d$ to liczba cyfr cechy, a $t$ - liczba cyfr mantysy z $[1,2)$, czyli dla arytmetyki Float64:\n",
    "\n",
    "$$ \\delta = 2^{cecha - 1023} \\cdot 2^{-52} $$\n",
    "\n",
    "Dla przedziału $[1/2,1]$ mamy zatem:"
   ]
  },
  {
   "cell_type": "code",
   "execution_count": 18,
   "metadata": {},
   "outputs": [
    {
     "name": "stdout",
     "output_type": "stream",
     "text": [
      "δ = 1.1102230246251565e-16 = 2^-53\n"
     ]
    }
   ],
   "source": [
    "# odczyt cechy z zapisu dwójkowego:\n",
    "exponent = parse(Int, bitstring(0.5)[2:12], base=2) \n",
    "\n",
    "real_exp = exponent - 1023 - 52\n",
    "delta = 2.0^real_exp\n",
    "\n",
    "if (check_values(0.5, delta, nextfloat) && check_values(1.0, -delta, prevfloat))\n",
    "    println(\"δ = $delta = 2^$real_exp\")\n",
    "end"
   ]
  },
  {
   "cell_type": "markdown",
   "metadata": {},
   "source": [
    "Analogicznie postępujemy dla przedziału $[2,4]$:"
   ]
  },
  {
   "cell_type": "code",
   "execution_count": 19,
   "metadata": {},
   "outputs": [
    {
     "name": "stdout",
     "output_type": "stream",
     "text": [
      "δ = 4.440892098500626e-16 = 2^-51\n"
     ]
    }
   ],
   "source": [
    "exponent = parse(Int, bitstring(2.0)[2:12], base=2)\n",
    "real_exp = exponent - 1023 - 52\n",
    "delta = 2.0^real_exp\n",
    "\n",
    "if (check_values(2.0, delta, nextfloat) && check_values(4.0, -delta, prevfloat))\n",
    "    println(\"δ = $delta = 2^$real_exp\")\n",
    "end"
   ]
  },
  {
   "cell_type": "markdown",
   "metadata": {},
   "source": [
    "W obu tych przedziałach dodanie odpowiadającej im delty skutkuje inkrementacją mantysy, zatem podobnie jak dla $[1,2]$, również w nich każdą liczbę można przedstawić jako\n",
    "\n",
    "$$ a + k\\delta $$\n",
    "\n",
    "gdzie $a$ jest początkiem przedziału, $\\delta$ krokiem odpowiadającym danemu przedziałowi, a $k = 0,1,2,...,2^{52}$, na przykład"
   ]
  },
  {
   "cell_type": "code",
   "execution_count": 20,
   "metadata": {},
   "outputs": [
    {
     "data": {
      "text/plain": [
       "true"
      ]
     },
     "execution_count": 20,
     "metadata": {},
     "output_type": "execute_result"
    }
   ],
   "source": [
    "2.0 + (2^52-1) * delta == prevfloat(4.0)"
   ]
  },
  {
   "cell_type": "markdown",
   "metadata": {},
   "source": [
    "### Wnioski\n",
    "Liczby w przedziałach pomiędzy kolejnymi potęgami liczby 2 rozmieszczone są równomiernie. Co więcej, z uwagi na skończoną liczbę możliwych do zapisania mantys, każdy taki przedział zawiera dokładnie tyle samo liczb. Odległości pomiędzy kolejnymi potęgami dwójki rosną, musi też zatem rosnąć krok $\\delta$ na przedziałach między nimi."
   ]
  },
  {
   "cell_type": "markdown",
   "metadata": {},
   "source": [
    "## Zadanie 4\n",
    "Należy wyznaczyć najmniejszą liczbę $x \\in (1,2)$ typu Float64, taką że $x \\cdot \\frac{1}{x} \\ne 1$. Będziemy zatem sprawdzać kolejne liczby od 1 do momentu spełnienia warunku:"
   ]
  },
  {
   "cell_type": "code",
   "execution_count": 21,
   "metadata": {},
   "outputs": [
    {
     "name": "stdout",
     "output_type": "stream",
     "text": [
      "Najmniejsza taka liczba to 1.0000000572289969\n"
     ]
    }
   ],
   "source": [
    "cur = 1.0\n",
    "while nextfloat(cur) * (1.0/nextfloat(cur)) == 1.0\n",
    "    cur = nextfloat(cur)\n",
    "end\n",
    "println(\"Najmniejsza taka liczba to $cur\")"
   ]
  },
  {
   "cell_type": "markdown",
   "metadata": {},
   "source": [
    "### Wnioski\n",
    "Z powodu ograniczeń dokładności w arytmetyce zmiennopozycyjnej mogą nie zostać zachowane wszystkie tożsamości algebraiczne."
   ]
  },
  {
   "cell_type": "markdown",
   "metadata": {},
   "source": [
    "## Zadanie 5\n",
    "Celem zadania jest zaimplementowanie czterech strategii obliczania iloczynu skalarnego dwóch wektorów $x$ i $y$, a następnie porównanie wyników ich działania.  \n",
    "Pierwszy - \"naprzód\", to znaczy $\\sum_{i=1}^n x[i]\\cdot y[i]$:"
   ]
  },
  {
   "cell_type": "code",
   "execution_count": 22,
   "metadata": {},
   "outputs": [
    {
     "data": {
      "text/plain": [
       "forward (generic function with 1 method)"
      ]
     },
     "execution_count": 22,
     "metadata": {},
     "output_type": "execute_result"
    }
   ],
   "source": [
    "function forward(x, y, type)\n",
    "    sum = type(0.0)\n",
    "    for i in 1:length(x)\n",
    "        sum += x[i] * y[i]\n",
    "    end \n",
    "    return sum\n",
    "end"
   ]
  },
  {
   "cell_type": "markdown",
   "metadata": {},
   "source": [
    "Drugi - \"wstecz\", to znaczy $\\sum_{i=n}^1 x[i]\\cdot y[i]$:"
   ]
  },
  {
   "cell_type": "code",
   "execution_count": 23,
   "metadata": {},
   "outputs": [
    {
     "data": {
      "text/plain": [
       "backward (generic function with 1 method)"
      ]
     },
     "execution_count": 23,
     "metadata": {},
     "output_type": "execute_result"
    }
   ],
   "source": [
    "function backward(x, y, type)\n",
    "    sum = type(0.0)\n",
    "    for i in length(x):-1:1\n",
    "        sum += x[i] * y[i]\n",
    "    end \n",
    "    return sum\n",
    "end"
   ]
  },
  {
   "cell_type": "markdown",
   "metadata": {},
   "source": [
    "Trzeci - mnożymy wartości o odpowiadających indeksach, a następnie tworzymy sumy częściowe wyników dodatnich (dodawanych w kolejności malejącej) i ujemnych (dodawanych w kolejności rosnącej). Na koniec dodajemy obie sumy."
   ]
  },
  {
   "cell_type": "code",
   "execution_count": 24,
   "metadata": {},
   "outputs": [
    {
     "data": {
      "text/plain": [
       "partial_desc (generic function with 1 method)"
      ]
     },
     "execution_count": 24,
     "metadata": {},
     "output_type": "execute_result"
    }
   ],
   "source": [
    "function partial_desc(x, y)\n",
    "    p = x .* y\n",
    "    sum_pos = sum(sort(filter(a -> a>0, p), rev=true))\n",
    "    sum_neg = sum(sort(filter(a -> a<0, p)))\n",
    "    return sum_pos+sum_neg\n",
    "end"
   ]
  },
  {
   "cell_type": "markdown",
   "metadata": {},
   "source": [
    "Czwarty - analogiczny do trzeciego, ale sumy częściowe tworzone są w odwrotnym porządku:"
   ]
  },
  {
   "cell_type": "code",
   "execution_count": 25,
   "metadata": {},
   "outputs": [
    {
     "data": {
      "text/plain": [
       "partial_asc (generic function with 1 method)"
      ]
     },
     "execution_count": 25,
     "metadata": {},
     "output_type": "execute_result"
    }
   ],
   "source": [
    "function partial_asc(x, y)\n",
    "    p = x .* y\n",
    "    sum_pos = sum(sort(filter(a -> a>0, p)))\n",
    "    sum_neg = sum(sort(filter(a -> a<0, p), rev=true))\n",
    "    return sum_pos+sum_neg\n",
    "end"
   ]
  },
  {
   "cell_type": "markdown",
   "metadata": {},
   "source": [
    "Wywołamy teraz każdą z procedur dla dwóch wektorów określonych w zadaniu i porównamy ich wyniki z faktyczną wartością iloczynu skalarnego, czyli $−1.00657107000000 \\cdot 10^{−11}$."
   ]
  },
  {
   "cell_type": "code",
   "execution_count": 26,
   "metadata": {},
   "outputs": [
    {
     "name": "stdout",
     "output_type": "stream",
     "text": [
      "Float32\n",
      "real:          -1.00657107000000e-11\n",
      "forward:       -0.4999443\n",
      "backward:      -0.4543457\n",
      "partial_desc:  -0.5\n",
      "partial_asc:   -0.5\n",
      "\n",
      "Float64\n",
      "real:          -1.00657107000000e-11\n",
      "forward:       1.0251881368296672e-10\n",
      "backward:      -1.5643308870494366e-10\n",
      "partial_desc:  0.0\n",
      "partial_asc:   0.0\n",
      "\n"
     ]
    }
   ],
   "source": [
    "x = [2.718281828, -3.141592654, 1.414213562, 0.5772156649, 0.3010299957]\n",
    "y = [1486.2497, 878366.9879, -22.37492, 4773714.647, 0.000185049]\n",
    "\n",
    "for t in [Float32, Float64]\n",
    "    a = Array{t,1}(x)\n",
    "    b = Array{t,1}(y)\n",
    "    println(t)\n",
    "    println(rpad(\"real: \", 15), \"-1.00657107000000e-11\")\n",
    "    println(rpad(\"forward: \", 15), forward(a, b, t))\n",
    "    println(rpad(\"backward: \", 15), backward(a, b, t))\n",
    "    println(rpad(\"partial_desc: \", 15), partial_desc(a, b))\n",
    "    println(rpad(\"partial_asc: \", 15), partial_asc(a, b), '\\n')\n",
    "end"
   ]
  },
  {
   "cell_type": "markdown",
   "metadata": {},
   "source": [
    "Jak widać, nie uzyskaliśmy poprawnego wyniku żadną z zaimplementowanych metod. Szczególnie duże błędy otrzymaliśmy w arytmetyce Float32."
   ]
  },
  {
   "cell_type": "markdown",
   "metadata": {},
   "source": [
    "### Wnioski\n",
    "Na błędy obliczeniowe ma wpływ nie tylko arytmetyka, ale również kolejność wykonywania działań."
   ]
  },
  {
   "cell_type": "markdown",
   "metadata": {},
   "source": [
    "## Zadanie 6\n",
    "Przeanalizujemy wartości funkcji określonych wzorami  \n",
    "$$ f(x) = \\sqrt{x^2+1}-1 $$  \n",
    "$$ g(x) = x^2/(\\sqrt{x^2+1}+1) $$  \n",
    "dla $x = 8^{-k}$, gdzie $k = 1, 2, 3, \\dotso$"
   ]
  },
  {
   "cell_type": "code",
   "execution_count": 27,
   "metadata": {},
   "outputs": [
    {
     "name": "stdout",
     "output_type": "stream",
     "text": [
      "x         f(x)                          g(x)                          \n",
      "----------------------------------------------------------------------\n",
      "8^-1      0.0077822185373186414         0.0077822185373187065         \n",
      "8^-2      0.00012206286282867573        0.00012206286282875901        \n",
      "8^-3      1.9073468138230965e-6         1.907346813826566e-6          \n",
      "8^-4      2.9802321943606103e-8         2.9802321943606116e-8         \n",
      "8^-5      4.656612873077393e-10         4.6566128719931904e-10        \n",
      "8^-6      7.275957614183426e-12         7.275957614156956e-12         \n",
      "8^-7      1.1368683772161603e-13        1.1368683772160957e-13        \n",
      "8^-8      1.7763568394002505e-15        1.7763568394002489e-15        \n",
      "8^-9      0.0                           2.7755575615628914e-17        \n",
      "8^-10     0.0                           4.336808689942018e-19         \n",
      "8^-11     0.0                           6.776263578034403e-21         \n",
      "8^-12     0.0                           1.0587911840678754e-22        \n",
      "8^-13     0.0                           1.6543612251060553e-24        \n",
      "8^-14     0.0                           2.5849394142282115e-26        \n",
      "8^-15     0.0                           4.0389678347315804e-28        \n"
     ]
    }
   ],
   "source": [
    "function f(x)\n",
    "    sqrt(x^2 + 1.) - 1.\n",
    "end\n",
    "\n",
    "function g(x)\n",
    "    x^2 / (sqrt(x^2 + 1.) + 1.)\n",
    "end\n",
    "\n",
    "println(rpad(\"x\", 10), rpad(\"f(x)\", 30), rpad(\"g(x)\", 30))\n",
    "println(\"-\"^70)\n",
    "for i in 1:15\n",
    "    println(rpad(\"8^-$i\", 10), rpad(f(8.0^-i), 30), rpad(g(8.0^-i), 30))\n",
    "end"
   ]
  },
  {
   "cell_type": "markdown",
   "metadata": {},
   "source": [
    "Mimo faktycznej równości obu funkcji, $g$ oferuje dokładniejsze wyniki. Dzieje się tak, ponieważ dla bardzo małych $x$ mamy $\\sqrt{x^2 + 1} \\approx 1$. Odejmowanie liczb o zbliżonej wartości w funkcji $f$ powoduje spadek dokładności związany z utratą liczb znaczących - stąd pojawiające się zera. "
   ]
  },
  {
   "cell_type": "markdown",
   "metadata": {},
   "source": [
    "### Wnioski\n",
    "Przekształcenia algebraiczne pozwalające ominąć odejmowanie liczb o zbliżonej wartości umożliwiają redukcję błędów w obliczeniach."
   ]
  },
  {
   "cell_type": "markdown",
   "metadata": {},
   "source": [
    "## Zadanie 7\n",
    "Skorzystamy z przybliżonego wzoru na pochodną funkcji  \n",
    "$$ f'(x) \\approx \\tilde{f}(x) = \\frac{f(x+h)-f(x)}{h} $$  \n",
    "do obliczenia w przybliżeniu wartości pochodnej funkcji $f(x) = sin(x) + cos(3x)$, a następnie porównamy uzyskane wyniki z dokładnymi."
   ]
  },
  {
   "cell_type": "code",
   "execution_count": 28,
   "metadata": {},
   "outputs": [
    {
     "data": {
      "text/plain": [
       "derivative (generic function with 2 methods)"
      ]
     },
     "execution_count": 28,
     "metadata": {},
     "output_type": "execute_result"
    }
   ],
   "source": [
    "function derivative(f, h, x=1)\n",
    "    (f(x+h)-f(x))/h\n",
    "end"
   ]
  },
  {
   "cell_type": "markdown",
   "metadata": {},
   "source": [
    "Dokładny wzór na pochodną funkcji $f$ to $f'(x) = cos(x) - 3sin(3x)$, mamy zatem:"
   ]
  },
  {
   "cell_type": "code",
   "execution_count": 29,
   "metadata": {},
   "outputs": [
    {
     "data": {
      "text/plain": [
       "0.11694228168853815"
      ]
     },
     "execution_count": 29,
     "metadata": {},
     "output_type": "execute_result"
    }
   ],
   "source": [
    "f(x) = sin(x) + cos(3x)\n",
    "df(x) = cos(x) - 3sin(3x)\n",
    "\n",
    "exact_df = df(1)"
   ]
  },
  {
   "cell_type": "markdown",
   "metadata": {},
   "source": [
    "Przyjrzyjmy się wartościom $\\tilde{f}$ oraz błędów $|\\tilde{f}(1) - f'(1)|$ dla $h=2^{-k}$, $k=0,1,2,...,54$:"
   ]
  },
  {
   "cell_type": "code",
   "execution_count": 30,
   "metadata": {
    "scrolled": true
   },
   "outputs": [
    {
     "name": "stdout",
     "output_type": "stream",
     "text": [
      "h         f_tilde                       |f_tilde - f'|                \n",
      "----------------------------------------------------------------------\n",
      "2^-1      1.8704413979316472            1.753499116243109             \n",
      "2^-2      1.1077870952342974            0.9908448135457593            \n",
      "2^-3      0.6232412792975817            0.5062989976090435            \n",
      "2^-4      0.3704000662035192            0.253457784514981             \n",
      "2^-5      0.24344307439754687           0.1265007927090087            \n",
      "2^-6      0.18009756330732785           0.0631552816187897            \n",
      "2^-7      0.1484913953710958            0.03154911368255764           \n",
      "2^-8      0.1327091142805159            0.015766832591977753          \n",
      "2^-9      0.1248236929407085            0.007881411252170345          \n",
      "2^-10     0.12088247681106168           0.0039401951225235265         \n",
      "2^-11     0.11891225046883847           0.001969968780300313          \n",
      "2^-12     0.11792723373901026           0.0009849520504721099         \n",
      "2^-13     0.11743474961076572           0.0004924679222275685         \n",
      "2^-14     0.11718851362093119           0.0002462319323930373         \n",
      "2^-15     0.11706539714577957           0.00012311545724141837        \n",
      "2^-16     0.11700383928837255           6.155759983439424e-5          \n",
      "2^-17     0.11697306045971345           3.077877117529937e-5          \n",
      "2^-18     0.11695767106721178           1.5389378673624776e-5         \n",
      "2^-19     0.11694997636368498           7.694675146829866e-6          \n",
      "2^-20     0.11694612901192158           3.8473233834324105e-6         \n",
      "2^-21     0.1169442052487284            1.9235601902423127e-6         \n",
      "2^-22     0.11694324295967817           9.612711400208696e-7          \n",
      "2^-23     0.11694276239722967           4.807086915192826e-7          \n",
      "2^-24     0.11694252118468285           2.394961446938737e-7          \n",
      "2^-25     0.116942398250103             1.1656156484463054e-7         \n",
      "2^-26     0.11694233864545822           5.6956920069239914e-8         \n",
      "2^-27     0.11694231629371643           3.460517827846843e-8          \n",
      "2^-28     0.11694228649139404           4.802855890773117e-9          \n",
      "2^-29     0.11694222688674927           5.480178888461751e-8          \n",
      "2^-30     0.11694216728210449           1.1440643366000813e-7         \n",
      "2^-31     0.11694216728210449           1.1440643366000813e-7         \n",
      "2^-32     0.11694192886352539           3.5282501276157063e-7         \n",
      "2^-33     0.11694145202636719           8.296621709646956e-7          \n",
      "2^-34     0.11694145202636719           8.296621709646956e-7          \n",
      "2^-35     0.11693954467773438           2.7370108037771956e-6         \n",
      "2^-36     0.116943359375                1.0776864618478044e-6         \n",
      "2^-37     0.1169281005859375            1.4181102600652196e-5         \n",
      "2^-38     0.116943359375                1.0776864618478044e-6         \n",
      "2^-39     0.11688232421875              5.9957469788152196e-5         \n",
      "2^-40     0.1168212890625               0.0001209926260381522         \n",
      "2^-41     0.116943359375                1.0776864618478044e-6         \n",
      "2^-42     0.11669921875                 0.0002430629385381522         \n",
      "2^-43     0.1162109375                  0.0007313441885381522         \n",
      "2^-44     0.1171875                     0.0002452183114618478         \n",
      "2^-45     0.11328125                    0.003661031688538152          \n",
      "2^-46     0.109375                      0.007567281688538152          \n",
      "2^-47     0.109375                      0.007567281688538152          \n",
      "2^-48     0.09375                       0.023192281688538152          \n",
      "2^-49     0.125                         0.008057718311461848          \n",
      "2^-50     0.0                           0.11694228168853815           \n",
      "2^-51     0.0                           0.11694228168853815           \n",
      "2^-52     -0.5                          0.6169422816885382            \n",
      "2^-53     0.0                           0.11694228168853815           \n",
      "2^-54     0.0                           0.11694228168853815           \n"
     ]
    }
   ],
   "source": [
    "println(rpad(\"h\", 10), rpad(\"f_tilde\", 30), rpad(\"|f_tilde - f'|\", 30))\n",
    "println(\"-\"^70)\n",
    "for i in 1:54\n",
    "    f_tilde = derivative(f,2.0^-i)\n",
    "    println(rpad(\"2^-$i\", 10), rpad(f_tilde, 30), rpad(abs(f_tilde - exact_df), 30))\n",
    "end"
   ]
  },
  {
   "cell_type": "markdown",
   "metadata": {},
   "source": [
    "Wykres błędu przybliżenia $|\\tilde{f}(1) - f'(1)|$ dla $h=2^{-k}$, $k=0,1,2,...,54$ prezentuje się następująco (dla czytelności skala logarytmiczna):"
   ]
  },
  {
   "cell_type": "code",
   "execution_count": 31,
   "metadata": {},
   "outputs": [
    {
     "data": {
      "image/svg+xml": [
       "<?xml version=\"1.0\" encoding=\"utf-8\"?>\n",
       "<svg xmlns=\"http://www.w3.org/2000/svg\" xmlns:xlink=\"http://www.w3.org/1999/xlink\" width=\"600\" height=\"400\" viewBox=\"0 0 2400 1600\">\n",
       "<defs>\n",
       "  <clipPath id=\"clip350\">\n",
       "    <rect x=\"0\" y=\"0\" width=\"2400\" height=\"1600\"/>\n",
       "  </clipPath>\n",
       "</defs>\n",
       "<path clip-path=\"url(#clip350)\" d=\"\n",
       "M0 1600 L2400 1600 L2400 0 L0 0  Z\n",
       "  \" fill=\"#ffffff\" fill-rule=\"evenodd\" fill-opacity=\"1\"/>\n",
       "<defs>\n",
       "  <clipPath id=\"clip351\">\n",
       "    <rect x=\"480\" y=\"0\" width=\"1681\" height=\"1600\"/>\n",
       "  </clipPath>\n",
       "</defs>\n",
       "<path clip-path=\"url(#clip350)\" d=\"\n",
       "M181.04 1486.45 L2352.76 1486.45 L2352.76 47.2441 L181.04 47.2441  Z\n",
       "  \" fill=\"#ffffff\" fill-rule=\"evenodd\" fill-opacity=\"1\"/>\n",
       "<defs>\n",
       "  <clipPath id=\"clip352\">\n",
       "    <rect x=\"181\" y=\"47\" width=\"2173\" height=\"1440\"/>\n",
       "  </clipPath>\n",
       "</defs>\n",
       "<polyline clip-path=\"url(#clip352)\" style=\"stroke:#000000; stroke-width:2; stroke-opacity:0.1; fill:none\" points=\"\n",
       "  314.596,1486.45 314.596,47.2441 \n",
       "  \"/>\n",
       "<polyline clip-path=\"url(#clip352)\" style=\"stroke:#000000; stroke-width:2; stroke-opacity:0.1; fill:none\" points=\"\n",
       "  667.3,1486.45 667.3,47.2441 \n",
       "  \"/>\n",
       "<polyline clip-path=\"url(#clip352)\" style=\"stroke:#000000; stroke-width:2; stroke-opacity:0.1; fill:none\" points=\"\n",
       "  1020,1486.45 1020,47.2441 \n",
       "  \"/>\n",
       "<polyline clip-path=\"url(#clip352)\" style=\"stroke:#000000; stroke-width:2; stroke-opacity:0.1; fill:none\" points=\"\n",
       "  1372.71,1486.45 1372.71,47.2441 \n",
       "  \"/>\n",
       "<polyline clip-path=\"url(#clip352)\" style=\"stroke:#000000; stroke-width:2; stroke-opacity:0.1; fill:none\" points=\"\n",
       "  1725.41,1486.45 1725.41,47.2441 \n",
       "  \"/>\n",
       "<polyline clip-path=\"url(#clip352)\" style=\"stroke:#000000; stroke-width:2; stroke-opacity:0.1; fill:none\" points=\"\n",
       "  2078.12,1486.45 2078.12,47.2441 \n",
       "  \"/>\n",
       "<polyline clip-path=\"url(#clip350)\" style=\"stroke:#000000; stroke-width:4; stroke-opacity:1; fill:none\" points=\"\n",
       "  181.04,1486.45 2352.76,1486.45 \n",
       "  \"/>\n",
       "<polyline clip-path=\"url(#clip350)\" style=\"stroke:#000000; stroke-width:4; stroke-opacity:1; fill:none\" points=\"\n",
       "  314.596,1486.45 314.596,1469.18 \n",
       "  \"/>\n",
       "<polyline clip-path=\"url(#clip350)\" style=\"stroke:#000000; stroke-width:4; stroke-opacity:1; fill:none\" points=\"\n",
       "  667.3,1486.45 667.3,1469.18 \n",
       "  \"/>\n",
       "<polyline clip-path=\"url(#clip350)\" style=\"stroke:#000000; stroke-width:4; stroke-opacity:1; fill:none\" points=\"\n",
       "  1020,1486.45 1020,1469.18 \n",
       "  \"/>\n",
       "<polyline clip-path=\"url(#clip350)\" style=\"stroke:#000000; stroke-width:4; stroke-opacity:1; fill:none\" points=\"\n",
       "  1372.71,1486.45 1372.71,1469.18 \n",
       "  \"/>\n",
       "<polyline clip-path=\"url(#clip350)\" style=\"stroke:#000000; stroke-width:4; stroke-opacity:1; fill:none\" points=\"\n",
       "  1725.41,1486.45 1725.41,1469.18 \n",
       "  \"/>\n",
       "<polyline clip-path=\"url(#clip350)\" style=\"stroke:#000000; stroke-width:4; stroke-opacity:1; fill:none\" points=\"\n",
       "  2078.12,1486.45 2078.12,1469.18 \n",
       "  \"/>\n",
       "<path clip-path=\"url(#clip350)\" d=\"M 0 0 M314.596 1515.64 Q310.985 1515.64 309.156 1519.2 Q307.351 1522.75 307.351 1529.87 Q307.351 1536.98 309.156 1540.55 Q310.985 1544.09 314.596 1544.09 Q318.23 1544.09 320.036 1540.55 Q321.865 1536.98 321.865 1529.87 Q321.865 1522.75 320.036 1519.2 Q318.23 1515.64 314.596 1515.64 M314.596 1511.93 Q320.406 1511.93 323.462 1516.54 Q326.54 1521.12 326.54 1529.87 Q326.54 1538.6 323.462 1543.21 Q320.406 1547.79 314.596 1547.79 Q308.786 1547.79 305.707 1543.21 Q302.652 1538.6 302.652 1529.87 Q302.652 1521.12 305.707 1516.54 Q308.786 1511.93 314.596 1511.93 Z\" fill=\"#000000\" fill-rule=\"evenodd\" fill-opacity=\"1\" /><path clip-path=\"url(#clip350)\" d=\"M 0 0 M644.176 1543.18 L651.814 1543.18 L651.814 1516.82 L643.504 1518.49 L643.504 1514.23 L651.768 1512.56 L656.444 1512.56 L656.444 1543.18 L664.083 1543.18 L664.083 1547.12 L644.176 1547.12 L644.176 1543.18 Z\" fill=\"#000000\" fill-rule=\"evenodd\" fill-opacity=\"1\" /><path clip-path=\"url(#clip350)\" d=\"M 0 0 M679.152 1515.64 Q675.541 1515.64 673.712 1519.2 Q671.907 1522.75 671.907 1529.87 Q671.907 1536.98 673.712 1540.55 Q675.541 1544.09 679.152 1544.09 Q682.786 1544.09 684.592 1540.55 Q686.421 1536.98 686.421 1529.87 Q686.421 1522.75 684.592 1519.2 Q682.786 1515.64 679.152 1515.64 M679.152 1511.93 Q684.962 1511.93 688.018 1516.54 Q691.097 1521.12 691.097 1529.87 Q691.097 1538.6 688.018 1543.21 Q684.962 1547.79 679.152 1547.79 Q673.342 1547.79 670.263 1543.21 Q667.208 1538.6 667.208 1529.87 Q667.208 1521.12 670.263 1516.54 Q673.342 1511.93 679.152 1511.93 Z\" fill=\"#000000\" fill-rule=\"evenodd\" fill-opacity=\"1\" /><path clip-path=\"url(#clip350)\" d=\"M 0 0 M1001.15 1543.18 L1017.47 1543.18 L1017.47 1547.12 L995.526 1547.12 L995.526 1543.18 Q998.188 1540.43 1002.77 1535.8 Q1007.38 1531.15 1008.56 1529.81 Q1010.8 1527.28 1011.68 1525.55 Q1012.59 1523.79 1012.59 1522.1 Q1012.59 1519.34 1010.64 1517.61 Q1008.72 1515.87 1005.62 1515.87 Q1003.42 1515.87 1000.97 1516.63 Q998.535 1517.4 995.757 1518.95 L995.757 1514.23 Q998.581 1513.09 1001.03 1512.51 Q1003.49 1511.93 1005.53 1511.93 Q1010.9 1511.93 1014.09 1514.62 Q1017.28 1517.31 1017.28 1521.8 Q1017.28 1523.93 1016.47 1525.85 Q1015.69 1527.74 1013.58 1530.34 Q1013 1531.01 1009.9 1534.23 Q1006.8 1537.42 1001.15 1543.18 Z\" fill=\"#000000\" fill-rule=\"evenodd\" fill-opacity=\"1\" /><path clip-path=\"url(#clip350)\" d=\"M 0 0 M1032.54 1515.64 Q1028.93 1515.64 1027.1 1519.2 Q1025.29 1522.75 1025.29 1529.87 Q1025.29 1536.98 1027.1 1540.55 Q1028.93 1544.09 1032.54 1544.09 Q1036.17 1544.09 1037.98 1540.55 Q1039.81 1536.98 1039.81 1529.87 Q1039.81 1522.75 1037.98 1519.2 Q1036.17 1515.64 1032.54 1515.64 M1032.54 1511.93 Q1038.35 1511.93 1041.41 1516.54 Q1044.48 1521.12 1044.48 1529.87 Q1044.48 1538.6 1041.41 1543.21 Q1038.35 1547.79 1032.54 1547.79 Q1026.73 1547.79 1023.65 1543.21 Q1020.6 1538.6 1020.6 1529.87 Q1020.6 1521.12 1023.65 1516.54 Q1026.73 1511.93 1032.54 1511.93 Z\" fill=\"#000000\" fill-rule=\"evenodd\" fill-opacity=\"1\" /><path clip-path=\"url(#clip350)\" d=\"M 0 0 M1363.45 1528.49 Q1366.81 1529.2 1368.68 1531.47 Q1370.58 1533.74 1370.58 1537.07 Q1370.58 1542.19 1367.06 1544.99 Q1363.54 1547.79 1357.06 1547.79 Q1354.89 1547.79 1352.57 1547.35 Q1350.28 1546.93 1347.82 1546.08 L1347.82 1541.56 Q1349.77 1542.7 1352.08 1543.28 Q1354.4 1543.86 1356.92 1543.86 Q1361.32 1543.86 1363.61 1542.12 Q1365.93 1540.38 1365.93 1537.07 Q1365.93 1534.02 1363.77 1532.31 Q1361.64 1530.57 1357.82 1530.57 L1353.8 1530.57 L1353.8 1526.73 L1358.01 1526.73 Q1361.46 1526.73 1363.29 1525.36 Q1365.12 1523.97 1365.12 1521.38 Q1365.12 1518.72 1363.22 1517.31 Q1361.34 1515.87 1357.82 1515.87 Q1355.9 1515.87 1353.7 1516.29 Q1351.51 1516.7 1348.87 1517.58 L1348.87 1513.42 Q1351.53 1512.68 1353.84 1512.31 Q1356.18 1511.93 1358.24 1511.93 Q1363.57 1511.93 1366.67 1514.37 Q1369.77 1516.77 1369.77 1520.89 Q1369.77 1523.76 1368.13 1525.75 Q1366.48 1527.72 1363.45 1528.49 Z\" fill=\"#000000\" fill-rule=\"evenodd\" fill-opacity=\"1\" /><path clip-path=\"url(#clip350)\" d=\"M 0 0 M1385.65 1515.64 Q1382.04 1515.64 1380.21 1519.2 Q1378.4 1522.75 1378.4 1529.87 Q1378.4 1536.98 1380.21 1540.55 Q1382.04 1544.09 1385.65 1544.09 Q1389.28 1544.09 1391.09 1540.55 Q1392.92 1536.98 1392.92 1529.87 Q1392.92 1522.75 1391.09 1519.2 Q1389.28 1515.64 1385.65 1515.64 M1385.65 1511.93 Q1391.46 1511.93 1394.51 1516.54 Q1397.59 1521.12 1397.59 1529.87 Q1397.59 1538.6 1394.51 1543.21 Q1391.46 1547.79 1385.65 1547.79 Q1379.84 1547.79 1376.76 1543.21 Q1373.7 1538.6 1373.7 1529.87 Q1373.7 1521.12 1376.76 1516.54 Q1379.84 1511.93 1385.65 1511.93 Z\" fill=\"#000000\" fill-rule=\"evenodd\" fill-opacity=\"1\" /><path clip-path=\"url(#clip350)\" d=\"M 0 0 M1714.92 1516.63 L1703.11 1535.08 L1714.92 1535.08 L1714.92 1516.63 M1713.69 1512.56 L1719.57 1512.56 L1719.57 1535.08 L1724.5 1535.08 L1724.5 1538.97 L1719.57 1538.97 L1719.57 1547.12 L1714.92 1547.12 L1714.92 1538.97 L1699.31 1538.97 L1699.31 1534.46 L1713.69 1512.56 Z\" fill=\"#000000\" fill-rule=\"evenodd\" fill-opacity=\"1\" /><path clip-path=\"url(#clip350)\" d=\"M 0 0 M1739.57 1515.64 Q1735.96 1515.64 1734.13 1519.2 Q1732.32 1522.75 1732.32 1529.87 Q1732.32 1536.98 1734.13 1540.55 Q1735.96 1544.09 1739.57 1544.09 Q1743.2 1544.09 1745.01 1540.55 Q1746.84 1536.98 1746.84 1529.87 Q1746.84 1522.75 1745.01 1519.2 Q1743.2 1515.64 1739.57 1515.64 M1739.57 1511.93 Q1745.38 1511.93 1748.43 1516.54 Q1751.51 1521.12 1751.51 1529.87 Q1751.51 1538.6 1748.43 1543.21 Q1745.38 1547.79 1739.57 1547.79 Q1733.76 1547.79 1730.68 1543.21 Q1727.62 1538.6 1727.62 1529.87 Q1727.62 1521.12 1730.68 1516.54 Q1733.76 1511.93 1739.57 1511.93 Z\" fill=\"#000000\" fill-rule=\"evenodd\" fill-opacity=\"1\" /><path clip-path=\"url(#clip350)\" d=\"M 0 0 M2054.89 1512.56 L2073.25 1512.56 L2073.25 1516.5 L2059.17 1516.5 L2059.17 1524.97 Q2060.19 1524.62 2061.21 1524.46 Q2062.23 1524.27 2063.25 1524.27 Q2069.03 1524.27 2072.41 1527.44 Q2075.79 1530.62 2075.79 1536.03 Q2075.79 1541.61 2072.32 1544.71 Q2068.85 1547.79 2062.53 1547.79 Q2060.35 1547.79 2058.08 1547.42 Q2055.84 1547.05 2053.43 1546.31 L2053.43 1541.61 Q2055.51 1542.74 2057.74 1543.3 Q2059.96 1543.86 2062.43 1543.86 Q2066.44 1543.86 2068.78 1541.75 Q2071.12 1539.64 2071.12 1536.03 Q2071.12 1532.42 2068.78 1530.31 Q2066.44 1528.21 2062.43 1528.21 Q2060.56 1528.21 2058.68 1528.62 Q2056.83 1529.04 2054.89 1529.92 L2054.89 1512.56 Z\" fill=\"#000000\" fill-rule=\"evenodd\" fill-opacity=\"1\" /><path clip-path=\"url(#clip350)\" d=\"M 0 0 M2090.86 1515.64 Q2087.25 1515.64 2085.42 1519.2 Q2083.62 1522.75 2083.62 1529.87 Q2083.62 1536.98 2085.42 1540.55 Q2087.25 1544.09 2090.86 1544.09 Q2094.49 1544.09 2096.3 1540.55 Q2098.13 1536.98 2098.13 1529.87 Q2098.13 1522.75 2096.3 1519.2 Q2094.49 1515.64 2090.86 1515.64 M2090.86 1511.93 Q2096.67 1511.93 2099.73 1516.54 Q2102.81 1521.12 2102.81 1529.87 Q2102.81 1538.6 2099.73 1543.21 Q2096.67 1547.79 2090.86 1547.79 Q2085.05 1547.79 2081.97 1543.21 Q2078.92 1538.6 2078.92 1529.87 Q2078.92 1521.12 2081.97 1516.54 Q2085.05 1511.93 2090.86 1511.93 Z\" fill=\"#000000\" fill-rule=\"evenodd\" fill-opacity=\"1\" /><polyline clip-path=\"url(#clip352)\" style=\"stroke:#000000; stroke-width:2; stroke-opacity:0.1; fill:none\" points=\"\n",
       "  181.04,1351.19 2352.76,1351.19 \n",
       "  \"/>\n",
       "<polyline clip-path=\"url(#clip352)\" style=\"stroke:#000000; stroke-width:2; stroke-opacity:0.1; fill:none\" points=\"\n",
       "  181.04,1046.03 2352.76,1046.03 \n",
       "  \"/>\n",
       "<polyline clip-path=\"url(#clip352)\" style=\"stroke:#000000; stroke-width:2; stroke-opacity:0.1; fill:none\" points=\"\n",
       "  181.04,740.866 2352.76,740.866 \n",
       "  \"/>\n",
       "<polyline clip-path=\"url(#clip352)\" style=\"stroke:#000000; stroke-width:2; stroke-opacity:0.1; fill:none\" points=\"\n",
       "  181.04,435.706 2352.76,435.706 \n",
       "  \"/>\n",
       "<polyline clip-path=\"url(#clip352)\" style=\"stroke:#000000; stroke-width:2; stroke-opacity:0.1; fill:none\" points=\"\n",
       "  181.04,130.545 2352.76,130.545 \n",
       "  \"/>\n",
       "<polyline clip-path=\"url(#clip350)\" style=\"stroke:#000000; stroke-width:4; stroke-opacity:1; fill:none\" points=\"\n",
       "  181.04,1486.45 181.04,47.2441 \n",
       "  \"/>\n",
       "<polyline clip-path=\"url(#clip350)\" style=\"stroke:#000000; stroke-width:4; stroke-opacity:1; fill:none\" points=\"\n",
       "  181.04,1351.19 207.1,1351.19 \n",
       "  \"/>\n",
       "<polyline clip-path=\"url(#clip350)\" style=\"stroke:#000000; stroke-width:4; stroke-opacity:1; fill:none\" points=\"\n",
       "  181.04,1046.03 207.1,1046.03 \n",
       "  \"/>\n",
       "<polyline clip-path=\"url(#clip350)\" style=\"stroke:#000000; stroke-width:4; stroke-opacity:1; fill:none\" points=\"\n",
       "  181.04,740.866 207.1,740.866 \n",
       "  \"/>\n",
       "<polyline clip-path=\"url(#clip350)\" style=\"stroke:#000000; stroke-width:4; stroke-opacity:1; fill:none\" points=\"\n",
       "  181.04,435.706 207.1,435.706 \n",
       "  \"/>\n",
       "<polyline clip-path=\"url(#clip350)\" style=\"stroke:#000000; stroke-width:4; stroke-opacity:1; fill:none\" points=\"\n",
       "  181.04,130.545 207.1,130.545 \n",
       "  \"/>\n",
       "<path clip-path=\"url(#clip350)\" d=\"M 0 0 M52.1336 1370.98 L59.7725 1370.98 L59.7725 1344.61 L51.4623 1346.28 L51.4623 1342.02 L59.7262 1340.36 L64.4021 1340.36 L64.4021 1370.98 L72.0409 1370.98 L72.0409 1374.92 L52.1336 1374.92 L52.1336 1370.98 Z\" fill=\"#000000\" fill-rule=\"evenodd\" fill-opacity=\"1\" /><path clip-path=\"url(#clip350)\" d=\"M 0 0 M87.1103 1343.43 Q83.4992 1343.43 81.6705 1347 Q79.8649 1350.54 79.8649 1357.67 Q79.8649 1364.78 81.6705 1368.34 Q83.4992 1371.88 87.1103 1371.88 Q90.7445 1371.88 92.5501 1368.34 Q94.3788 1364.78 94.3788 1357.67 Q94.3788 1350.54 92.5501 1347 Q90.7445 1343.43 87.1103 1343.43 M87.1103 1339.73 Q92.9204 1339.73 95.976 1344.34 Q99.0547 1348.92 99.0547 1357.67 Q99.0547 1366.4 95.976 1371 Q92.9204 1375.59 87.1103 1375.59 Q81.3001 1375.59 78.2214 1371 Q75.1659 1366.4 75.1659 1357.67 Q75.1659 1348.92 78.2214 1344.34 Q81.3001 1339.73 87.1103 1339.73 Z\" fill=\"#000000\" fill-rule=\"evenodd\" fill-opacity=\"1\" /><path clip-path=\"url(#clip350)\" d=\"M 0 0 M99.0547 1333.83 L123.166 1333.83 L123.166 1337.03 L99.0547 1337.03 L99.0547 1333.83 Z\" fill=\"#000000\" fill-rule=\"evenodd\" fill-opacity=\"1\" /><path clip-path=\"url(#clip350)\" d=\"M 0 0 M135.41 1334.17 Q132.702 1334.17 131.141 1335.62 Q129.598 1337.07 129.598 1339.61 Q129.598 1342.14 131.141 1343.59 Q132.702 1345.04 135.41 1345.04 Q138.118 1345.04 139.679 1343.59 Q141.24 1342.13 141.24 1339.61 Q141.24 1337.07 139.679 1335.62 Q138.137 1334.17 135.41 1334.17 M131.611 1332.55 Q129.166 1331.95 127.793 1330.28 Q126.439 1328.6 126.439 1326.2 Q126.439 1322.83 128.827 1320.87 Q131.235 1318.92 135.41 1318.92 Q139.604 1318.92 141.993 1320.87 Q144.381 1322.83 144.381 1326.2 Q144.381 1328.6 143.008 1330.28 Q141.654 1331.95 139.228 1332.55 Q141.974 1333.19 143.497 1335.05 Q145.04 1336.92 145.04 1339.61 Q145.04 1343.69 142.538 1345.87 Q140.056 1348.05 135.41 1348.05 Q130.765 1348.05 128.263 1345.87 Q125.78 1343.69 125.78 1339.61 Q125.78 1336.92 127.323 1335.05 Q128.865 1333.19 131.611 1332.55 M130.219 1326.55 Q130.219 1328.73 131.573 1329.96 Q132.946 1331.18 135.41 1331.18 Q137.855 1331.18 139.228 1329.96 Q140.62 1328.73 140.62 1326.55 Q140.62 1324.37 139.228 1323.15 Q137.855 1321.93 135.41 1321.93 Q132.946 1321.93 131.573 1323.15 Q130.219 1324.37 130.219 1326.55 Z\" fill=\"#000000\" fill-rule=\"evenodd\" fill-opacity=\"1\" /><path clip-path=\"url(#clip350)\" d=\"M 0 0 M51.9267 1065.82 L59.5656 1065.82 L59.5656 1039.45 L51.2554 1041.12 L51.2554 1036.86 L59.5193 1035.19 L64.1952 1035.19 L64.1952 1065.82 L71.834 1065.82 L71.834 1069.75 L51.9267 1069.75 L51.9267 1065.82 Z\" fill=\"#000000\" fill-rule=\"evenodd\" fill-opacity=\"1\" /><path clip-path=\"url(#clip350)\" d=\"M 0 0 M86.9034 1038.27 Q83.2923 1038.27 81.4636 1041.84 Q79.6581 1045.38 79.6581 1052.51 Q79.6581 1059.62 81.4636 1063.18 Q83.2923 1066.72 86.9034 1066.72 Q90.5376 1066.72 92.3432 1063.18 Q94.1719 1059.62 94.1719 1052.51 Q94.1719 1045.38 92.3432 1041.84 Q90.5376 1038.27 86.9034 1038.27 M86.9034 1034.57 Q92.7135 1034.57 95.7691 1039.18 Q98.8478 1043.76 98.8478 1052.51 Q98.8478 1061.24 95.7691 1065.84 Q92.7135 1070.43 86.9034 1070.43 Q81.0932 1070.43 78.0146 1065.84 Q74.959 1061.24 74.959 1052.51 Q74.959 1043.76 78.0146 1039.18 Q81.0932 1034.57 86.9034 1034.57 Z\" fill=\"#000000\" fill-rule=\"evenodd\" fill-opacity=\"1\" /><path clip-path=\"url(#clip350)\" d=\"M 0 0 M98.8478 1028.67 L122.959 1028.67 L122.959 1031.87 L98.8478 1031.87 L98.8478 1028.67 Z\" fill=\"#000000\" fill-rule=\"evenodd\" fill-opacity=\"1\" /><path clip-path=\"url(#clip350)\" d=\"M 0 0 M135.673 1026.79 Q133.116 1026.79 131.611 1028.54 Q130.125 1030.29 130.125 1033.34 Q130.125 1036.36 131.611 1038.13 Q133.116 1039.88 135.673 1039.88 Q138.231 1039.88 139.717 1038.13 Q141.222 1036.36 141.222 1033.34 Q141.222 1030.29 139.717 1028.54 Q138.231 1026.79 135.673 1026.79 M143.215 1014.88 L143.215 1018.35 Q141.786 1017.67 140.319 1017.31 Q138.871 1016.95 137.441 1016.95 Q133.68 1016.95 131.686 1019.49 Q129.711 1022.03 129.429 1027.17 Q130.539 1025.53 132.213 1024.66 Q133.887 1023.78 135.899 1023.78 Q140.131 1023.78 142.576 1026.36 Q145.04 1028.92 145.04 1033.34 Q145.04 1037.66 142.482 1040.28 Q139.924 1042.89 135.673 1042.89 Q130.802 1042.89 128.226 1039.17 Q125.649 1035.42 125.649 1028.33 Q125.649 1021.67 128.809 1017.72 Q131.968 1013.76 137.291 1013.76 Q138.72 1013.76 140.168 1014.04 Q141.635 1014.32 143.215 1014.88 Z\" fill=\"#000000\" fill-rule=\"evenodd\" fill-opacity=\"1\" /><path clip-path=\"url(#clip350)\" d=\"M 0 0 M51.6634 760.659 L59.3023 760.659 L59.3023 734.293 L50.9921 735.96 L50.9921 731.701 L59.256 730.034 L63.9319 730.034 L63.9319 760.659 L71.5707 760.659 L71.5707 764.594 L51.6634 764.594 L51.6634 760.659 Z\" fill=\"#000000\" fill-rule=\"evenodd\" fill-opacity=\"1\" /><path clip-path=\"url(#clip350)\" d=\"M 0 0 M86.6401 733.113 Q83.029 733.113 81.2003 736.677 Q79.3948 740.219 79.3948 747.349 Q79.3948 754.455 81.2003 758.02 Q83.029 761.562 86.6401 761.562 Q90.2743 761.562 92.0799 758.02 Q93.9086 754.455 93.9086 747.349 Q93.9086 740.219 92.0799 736.677 Q90.2743 733.113 86.6401 733.113 M86.6401 729.409 Q92.4502 729.409 95.5058 734.015 Q98.5845 738.599 98.5845 747.349 Q98.5845 756.075 95.5058 760.682 Q92.4502 765.265 86.6401 765.265 Q80.8299 765.265 77.7512 760.682 Q74.6957 756.075 74.6957 747.349 Q74.6957 738.599 77.7512 734.015 Q80.8299 729.409 86.6401 729.409 Z\" fill=\"#000000\" fill-rule=\"evenodd\" fill-opacity=\"1\" /><path clip-path=\"url(#clip350)\" d=\"M 0 0 M98.5845 723.51 L122.696 723.51 L122.696 726.708 L98.5845 726.708 L98.5845 723.51 Z\" fill=\"#000000\" fill-rule=\"evenodd\" fill-opacity=\"1\" /><path clip-path=\"url(#clip350)\" d=\"M 0 0 M137.253 712.414 L127.661 727.403 L137.253 727.403 L137.253 712.414 M136.256 709.104 L141.034 709.104 L141.034 727.403 L145.04 727.403 L145.04 730.563 L141.034 730.563 L141.034 737.184 L137.253 737.184 L137.253 730.563 L124.577 730.563 L124.577 726.896 L136.256 709.104 Z\" fill=\"#000000\" fill-rule=\"evenodd\" fill-opacity=\"1\" /><path clip-path=\"url(#clip350)\" d=\"M 0 0 M53.3561 455.498 L60.995 455.498 L60.995 429.133 L52.6848 430.799 L52.6848 426.54 L60.9487 424.873 L65.6246 424.873 L65.6246 455.498 L73.2634 455.498 L73.2634 459.433 L53.3561 459.433 L53.3561 455.498 Z\" fill=\"#000000\" fill-rule=\"evenodd\" fill-opacity=\"1\" /><path clip-path=\"url(#clip350)\" d=\"M 0 0 M88.3328 427.952 Q84.7217 427.952 82.893 431.517 Q81.0875 435.058 81.0875 442.188 Q81.0875 449.294 82.893 452.859 Q84.7217 456.401 88.3328 456.401 Q91.967 456.401 93.7726 452.859 Q95.6013 449.294 95.6013 442.188 Q95.6013 435.058 93.7726 431.517 Q91.967 427.952 88.3328 427.952 M88.3328 424.248 Q94.1429 424.248 97.1985 428.855 Q100.277 433.438 100.277 442.188 Q100.277 450.915 97.1985 455.521 Q94.1429 460.105 88.3328 460.105 Q82.5226 460.105 79.4439 455.521 Q76.3884 450.915 76.3884 442.188 Q76.3884 433.438 79.4439 428.855 Q82.5226 424.248 88.3328 424.248 Z\" fill=\"#000000\" fill-rule=\"evenodd\" fill-opacity=\"1\" /><path clip-path=\"url(#clip350)\" d=\"M 0 0 M100.277 418.35 L124.389 418.35 L124.389 421.547 L100.277 421.547 L100.277 418.35 Z\" fill=\"#000000\" fill-rule=\"evenodd\" fill-opacity=\"1\" /><path clip-path=\"url(#clip350)\" d=\"M 0 0 M131.78 428.826 L145.04 428.826 L145.04 432.023 L127.21 432.023 L127.21 428.826 Q129.373 426.587 133.097 422.826 Q136.839 419.046 137.799 417.955 Q139.623 415.905 140.338 414.494 Q141.071 413.065 141.071 411.692 Q141.071 409.454 139.491 408.043 Q137.93 406.632 135.41 406.632 Q133.623 406.632 131.63 407.253 Q129.655 407.874 127.398 409.134 L127.398 405.297 Q129.693 404.375 131.686 403.905 Q133.68 403.435 135.335 403.435 Q139.698 403.435 142.294 405.617 Q144.889 407.798 144.889 411.447 Q144.889 413.178 144.231 414.739 Q143.591 416.281 141.88 418.387 Q141.41 418.933 138.89 421.547 Q136.369 424.142 131.78 428.826 Z\" fill=\"#000000\" fill-rule=\"evenodd\" fill-opacity=\"1\" /><path clip-path=\"url(#clip350)\" d=\"M 0 0 M78.709 150.338 L86.3478 150.338 L86.3478 123.972 L78.0377 125.639 L78.0377 121.379 L86.3015 119.713 L90.9774 119.713 L90.9774 150.338 L98.6163 150.338 L98.6163 154.273 L78.709 154.273 L78.709 150.338 Z\" fill=\"#000000\" fill-rule=\"evenodd\" fill-opacity=\"1\" /><path clip-path=\"url(#clip350)\" d=\"M 0 0 M113.686 122.791 Q110.075 122.791 108.246 126.356 Q106.44 129.898 106.44 137.027 Q106.44 144.134 108.246 147.699 Q110.075 151.24 113.686 151.24 Q117.32 151.24 119.125 147.699 Q120.954 144.134 120.954 137.027 Q120.954 129.898 119.125 126.356 Q117.32 122.791 113.686 122.791 M113.686 119.088 Q119.496 119.088 122.551 123.694 Q125.63 128.277 125.63 137.027 Q125.63 145.754 122.551 150.361 Q119.496 154.944 113.686 154.944 Q107.876 154.944 104.797 150.361 Q101.741 145.754 101.741 137.027 Q101.741 128.277 104.797 123.694 Q107.876 119.088 113.686 119.088 Z\" fill=\"#000000\" fill-rule=\"evenodd\" fill-opacity=\"1\" /><path clip-path=\"url(#clip350)\" d=\"M 0 0 M135.335 101.284 Q132.401 101.284 130.915 104.18 Q129.448 107.058 129.448 112.851 Q129.448 118.624 130.915 121.521 Q132.401 124.398 135.335 124.398 Q138.288 124.398 139.755 121.521 Q141.24 118.624 141.24 112.851 Q141.24 107.058 139.755 104.18 Q138.288 101.284 135.335 101.284 M135.335 98.2745 Q140.056 98.2745 142.538 102.017 Q145.04 105.741 145.04 112.851 Q145.04 119.941 142.538 123.684 Q140.056 127.408 135.335 127.408 Q130.614 127.408 128.113 123.684 Q125.63 119.941 125.63 112.851 Q125.63 105.741 128.113 102.017 Q130.614 98.2745 135.335 98.2745 Z\" fill=\"#000000\" fill-rule=\"evenodd\" fill-opacity=\"1\" /><path clip-path=\"url(#clip352)\" d=\"\n",
       "M300.488 87.9763 L300.488 1445.72 L328.704 1445.72 L328.704 87.9763 L300.488 87.9763 L300.488 87.9763  Z\n",
       "  \" fill=\"#009af9\" fill-rule=\"evenodd\" fill-opacity=\"1\"/>\n",
       "<polyline clip-path=\"url(#clip352)\" style=\"stroke:#000000; stroke-width:4; stroke-opacity:1; fill:none\" points=\"\n",
       "  300.488,87.9763 300.488,1445.72 328.704,1445.72 328.704,87.9763 300.488,87.9763 \n",
       "  \"/>\n",
       "<path clip-path=\"url(#clip352)\" d=\"\n",
       "M335.758 93.3299 L335.758 1445.72 L363.975 1445.72 L363.975 93.3299 L335.758 93.3299 L335.758 93.3299  Z\n",
       "  \" fill=\"#009af9\" fill-rule=\"evenodd\" fill-opacity=\"1\"/>\n",
       "<polyline clip-path=\"url(#clip352)\" style=\"stroke:#000000; stroke-width:4; stroke-opacity:1; fill:none\" points=\"\n",
       "  335.758,93.3299 335.758,1445.72 363.975,1445.72 363.975,93.3299 335.758,93.3299 \n",
       "  \"/>\n",
       "<path clip-path=\"url(#clip352)\" d=\"\n",
       "M371.029 131.155 L371.029 1445.72 L399.245 1445.72 L399.245 131.155 L371.029 131.155 L371.029 131.155  Z\n",
       "  \" fill=\"#009af9\" fill-rule=\"evenodd\" fill-opacity=\"1\"/>\n",
       "<polyline clip-path=\"url(#clip352)\" style=\"stroke:#000000; stroke-width:4; stroke-opacity:1; fill:none\" points=\"\n",
       "  371.029,131.155 371.029,1445.72 399.245,1445.72 399.245,131.155 371.029,131.155 \n",
       "  \"/>\n",
       "<path clip-path=\"url(#clip352)\" d=\"\n",
       "M406.299 175.647 L406.299 1445.72 L434.516 1445.72 L434.516 175.647 L406.299 175.647 L406.299 175.647  Z\n",
       "  \" fill=\"#009af9\" fill-rule=\"evenodd\" fill-opacity=\"1\"/>\n",
       "<polyline clip-path=\"url(#clip352)\" style=\"stroke:#000000; stroke-width:4; stroke-opacity:1; fill:none\" points=\"\n",
       "  406.299,175.647 406.299,1445.72 434.516,1445.72 434.516,175.647 406.299,175.647 \n",
       "  \"/>\n",
       "<path clip-path=\"url(#clip352)\" d=\"\n",
       "M441.57 221.497 L441.57 1445.72 L469.786 1445.72 L469.786 221.497 L441.57 221.497 L441.57 221.497  Z\n",
       "  \" fill=\"#009af9\" fill-rule=\"evenodd\" fill-opacity=\"1\"/>\n",
       "<polyline clip-path=\"url(#clip352)\" style=\"stroke:#000000; stroke-width:4; stroke-opacity:1; fill:none\" points=\"\n",
       "  441.57,221.497 441.57,1445.72 469.786,1445.72 469.786,221.497 441.57,221.497 \n",
       "  \"/>\n",
       "<path clip-path=\"url(#clip352)\" d=\"\n",
       "M476.84 267.548 L476.84 1445.72 L505.056 1445.72 L505.056 267.548 L476.84 267.548 L476.84 267.548  Z\n",
       "  \" fill=\"#009af9\" fill-rule=\"evenodd\" fill-opacity=\"1\"/>\n",
       "<polyline clip-path=\"url(#clip352)\" style=\"stroke:#000000; stroke-width:4; stroke-opacity:1; fill:none\" points=\"\n",
       "  476.84,267.548 476.84,1445.72 505.056,1445.72 505.056,267.548 476.84,267.548 \n",
       "  \"/>\n",
       "<path clip-path=\"url(#clip352)\" d=\"\n",
       "M512.111 313.579 L512.111 1445.72 L540.327 1445.72 L540.327 313.579 L512.111 313.579 L512.111 313.579  Z\n",
       "  \" fill=\"#009af9\" fill-rule=\"evenodd\" fill-opacity=\"1\"/>\n",
       "<polyline clip-path=\"url(#clip352)\" style=\"stroke:#000000; stroke-width:4; stroke-opacity:1; fill:none\" points=\"\n",
       "  512.111,313.579 512.111,1445.72 540.327,1445.72 540.327,313.579 512.111,313.579 \n",
       "  \"/>\n",
       "<path clip-path=\"url(#clip352)\" d=\"\n",
       "M547.381 359.57 L547.381 1445.72 L575.597 1445.72 L575.597 359.57 L547.381 359.57 L547.381 359.57  Z\n",
       "  \" fill=\"#009af9\" fill-rule=\"evenodd\" fill-opacity=\"1\"/>\n",
       "<polyline clip-path=\"url(#clip352)\" style=\"stroke:#000000; stroke-width:4; stroke-opacity:1; fill:none\" points=\"\n",
       "  547.381,359.57 547.381,1445.72 575.597,1445.72 575.597,359.57 547.381,359.57 \n",
       "  \"/>\n",
       "<path clip-path=\"url(#clip352)\" d=\"\n",
       "M582.651 405.534 L582.651 1445.72 L610.868 1445.72 L610.868 405.534 L582.651 405.534 L582.651 405.534  Z\n",
       "  \" fill=\"#009af9\" fill-rule=\"evenodd\" fill-opacity=\"1\"/>\n",
       "<polyline clip-path=\"url(#clip352)\" style=\"stroke:#000000; stroke-width:4; stroke-opacity:1; fill:none\" points=\"\n",
       "  582.651,405.534 582.651,1445.72 610.868,1445.72 610.868,405.534 582.651,405.534 \n",
       "  \"/>\n",
       "<path clip-path=\"url(#clip352)\" d=\"\n",
       "M617.922 451.482 L617.922 1445.72 L646.138 1445.72 L646.138 451.482 L617.922 451.482 L617.922 451.482  Z\n",
       "  \" fill=\"#009af9\" fill-rule=\"evenodd\" fill-opacity=\"1\"/>\n",
       "<polyline clip-path=\"url(#clip352)\" style=\"stroke:#000000; stroke-width:4; stroke-opacity:1; fill:none\" points=\"\n",
       "  617.922,451.482 617.922,1445.72 646.138,1445.72 646.138,451.482 617.922,451.482 \n",
       "  \"/>\n",
       "<path clip-path=\"url(#clip352)\" d=\"\n",
       "M653.192 497.422 L653.192 1445.72 L681.409 1445.72 L681.409 497.422 L653.192 497.422 L653.192 497.422  Z\n",
       "  \" fill=\"#009af9\" fill-rule=\"evenodd\" fill-opacity=\"1\"/>\n",
       "<polyline clip-path=\"url(#clip352)\" style=\"stroke:#000000; stroke-width:4; stroke-opacity:1; fill:none\" points=\"\n",
       "  653.192,497.422 653.192,1445.72 681.409,1445.72 681.409,497.422 653.192,497.422 \n",
       "  \"/>\n",
       "<path clip-path=\"url(#clip352)\" d=\"\n",
       "M688.463 543.357 L688.463 1445.72 L716.679 1445.72 L716.679 543.357 L688.463 543.357 L688.463 543.357  Z\n",
       "  \" fill=\"#009af9\" fill-rule=\"evenodd\" fill-opacity=\"1\"/>\n",
       "<polyline clip-path=\"url(#clip352)\" style=\"stroke:#000000; stroke-width:4; stroke-opacity:1; fill:none\" points=\"\n",
       "  688.463,543.357 688.463,1445.72 716.679,1445.72 716.679,543.357 688.463,543.357 \n",
       "  \"/>\n",
       "<path clip-path=\"url(#clip352)\" d=\"\n",
       "M723.733 589.291 L723.733 1445.72 L751.949 1445.72 L751.949 589.291 L723.733 589.291 L723.733 589.291  Z\n",
       "  \" fill=\"#009af9\" fill-rule=\"evenodd\" fill-opacity=\"1\"/>\n",
       "<polyline clip-path=\"url(#clip352)\" style=\"stroke:#000000; stroke-width:4; stroke-opacity:1; fill:none\" points=\"\n",
       "  723.733,589.291 723.733,1445.72 751.949,1445.72 751.949,589.291 723.733,589.291 \n",
       "  \"/>\n",
       "<path clip-path=\"url(#clip352)\" d=\"\n",
       "M759.004 635.223 L759.004 1445.72 L787.22 1445.72 L787.22 635.223 L759.004 635.223 L759.004 635.223  Z\n",
       "  \" fill=\"#009af9\" fill-rule=\"evenodd\" fill-opacity=\"1\"/>\n",
       "<polyline clip-path=\"url(#clip352)\" style=\"stroke:#000000; stroke-width:4; stroke-opacity:1; fill:none\" points=\"\n",
       "  759.004,635.223 759.004,1445.72 787.22,1445.72 787.22,635.223 759.004,635.223 \n",
       "  \"/>\n",
       "<path clip-path=\"url(#clip352)\" d=\"\n",
       "M794.274 681.155 L794.274 1445.72 L822.49 1445.72 L822.49 681.155 L794.274 681.155 L794.274 681.155  Z\n",
       "  \" fill=\"#009af9\" fill-rule=\"evenodd\" fill-opacity=\"1\"/>\n",
       "<polyline clip-path=\"url(#clip352)\" style=\"stroke:#000000; stroke-width:4; stroke-opacity:1; fill:none\" points=\"\n",
       "  794.274,681.155 794.274,1445.72 822.49,1445.72 822.49,681.155 794.274,681.155 \n",
       "  \"/>\n",
       "<path clip-path=\"url(#clip352)\" d=\"\n",
       "M829.544 727.086 L829.544 1445.72 L857.761 1445.72 L857.761 727.086 L829.544 727.086 L829.544 727.086  Z\n",
       "  \" fill=\"#009af9\" fill-rule=\"evenodd\" fill-opacity=\"1\"/>\n",
       "<polyline clip-path=\"url(#clip352)\" style=\"stroke:#000000; stroke-width:4; stroke-opacity:1; fill:none\" points=\"\n",
       "  829.544,727.086 829.544,1445.72 857.761,1445.72 857.761,727.086 829.544,727.086 \n",
       "  \"/>\n",
       "<path clip-path=\"url(#clip352)\" d=\"\n",
       "M864.815 773.018 L864.815 1445.72 L893.031 1445.72 L893.031 773.018 L864.815 773.018 L864.815 773.018  Z\n",
       "  \" fill=\"#009af9\" fill-rule=\"evenodd\" fill-opacity=\"1\"/>\n",
       "<polyline clip-path=\"url(#clip352)\" style=\"stroke:#000000; stroke-width:4; stroke-opacity:1; fill:none\" points=\"\n",
       "  864.815,773.018 864.815,1445.72 893.031,1445.72 893.031,773.018 864.815,773.018 \n",
       "  \"/>\n",
       "<path clip-path=\"url(#clip352)\" d=\"\n",
       "M900.085 818.949 L900.085 1445.72 L928.302 1445.72 L928.302 818.949 L900.085 818.949 L900.085 818.949  Z\n",
       "  \" fill=\"#009af9\" fill-rule=\"evenodd\" fill-opacity=\"1\"/>\n",
       "<polyline clip-path=\"url(#clip352)\" style=\"stroke:#000000; stroke-width:4; stroke-opacity:1; fill:none\" points=\"\n",
       "  900.085,818.949 900.085,1445.72 928.302,1445.72 928.302,818.949 900.085,818.949 \n",
       "  \"/>\n",
       "<path clip-path=\"url(#clip352)\" d=\"\n",
       "M935.356 864.88 L935.356 1445.72 L963.572 1445.72 L963.572 864.88 L935.356 864.88 L935.356 864.88  Z\n",
       "  \" fill=\"#009af9\" fill-rule=\"evenodd\" fill-opacity=\"1\"/>\n",
       "<polyline clip-path=\"url(#clip352)\" style=\"stroke:#000000; stroke-width:4; stroke-opacity:1; fill:none\" points=\"\n",
       "  935.356,864.88 935.356,1445.72 963.572,1445.72 963.572,864.88 935.356,864.88 \n",
       "  \"/>\n",
       "<path clip-path=\"url(#clip352)\" d=\"\n",
       "M970.626 910.812 L970.626 1445.72 L998.842 1445.72 L998.842 910.812 L970.626 910.812 L970.626 910.812  Z\n",
       "  \" fill=\"#009af9\" fill-rule=\"evenodd\" fill-opacity=\"1\"/>\n",
       "<polyline clip-path=\"url(#clip352)\" style=\"stroke:#000000; stroke-width:4; stroke-opacity:1; fill:none\" points=\"\n",
       "  970.626,910.812 970.626,1445.72 998.842,1445.72 998.842,910.812 970.626,910.812 \n",
       "  \"/>\n",
       "<path clip-path=\"url(#clip352)\" d=\"\n",
       "M1005.9 956.743 L1005.9 1445.72 L1034.11 1445.72 L1034.11 956.743 L1005.9 956.743 L1005.9 956.743  Z\n",
       "  \" fill=\"#009af9\" fill-rule=\"evenodd\" fill-opacity=\"1\"/>\n",
       "<polyline clip-path=\"url(#clip352)\" style=\"stroke:#000000; stroke-width:4; stroke-opacity:1; fill:none\" points=\"\n",
       "  1005.9,956.743 1005.9,1445.72 1034.11,1445.72 1034.11,956.743 1005.9,956.743 \n",
       "  \"/>\n",
       "<path clip-path=\"url(#clip352)\" d=\"\n",
       "M1041.17 1002.68 L1041.17 1445.72 L1069.38 1445.72 L1069.38 1002.68 L1041.17 1002.68 L1041.17 1002.68  Z\n",
       "  \" fill=\"#009af9\" fill-rule=\"evenodd\" fill-opacity=\"1\"/>\n",
       "<polyline clip-path=\"url(#clip352)\" style=\"stroke:#000000; stroke-width:4; stroke-opacity:1; fill:none\" points=\"\n",
       "  1041.17,1002.68 1041.17,1445.72 1069.38,1445.72 1069.38,1002.68 1041.17,1002.68 \n",
       "  \"/>\n",
       "<path clip-path=\"url(#clip352)\" d=\"\n",
       "M1076.44 1048.64 L1076.44 1445.72 L1104.65 1445.72 L1104.65 1048.64 L1076.44 1048.64 L1076.44 1048.64  Z\n",
       "  \" fill=\"#009af9\" fill-rule=\"evenodd\" fill-opacity=\"1\"/>\n",
       "<polyline clip-path=\"url(#clip352)\" style=\"stroke:#000000; stroke-width:4; stroke-opacity:1; fill:none\" points=\"\n",
       "  1076.44,1048.64 1076.44,1445.72 1104.65,1445.72 1104.65,1048.64 1076.44,1048.64 \n",
       "  \"/>\n",
       "<path clip-path=\"url(#clip352)\" d=\"\n",
       "M1111.71 1094.57 L1111.71 1445.72 L1139.92 1445.72 L1139.92 1094.57 L1111.71 1094.57 L1111.71 1094.57  Z\n",
       "  \" fill=\"#009af9\" fill-rule=\"evenodd\" fill-opacity=\"1\"/>\n",
       "<polyline clip-path=\"url(#clip352)\" style=\"stroke:#000000; stroke-width:4; stroke-opacity:1; fill:none\" points=\"\n",
       "  1111.71,1094.57 1111.71,1445.72 1139.92,1445.72 1139.92,1094.57 1111.71,1094.57 \n",
       "  \"/>\n",
       "<path clip-path=\"url(#clip352)\" d=\"\n",
       "M1146.98 1140.73 L1146.98 1445.72 L1175.19 1445.72 L1175.19 1140.73 L1146.98 1140.73 L1146.98 1140.73  Z\n",
       "  \" fill=\"#009af9\" fill-rule=\"evenodd\" fill-opacity=\"1\"/>\n",
       "<polyline clip-path=\"url(#clip352)\" style=\"stroke:#000000; stroke-width:4; stroke-opacity:1; fill:none\" points=\"\n",
       "  1146.98,1140.73 1146.98,1445.72 1175.19,1445.72 1175.19,1140.73 1146.98,1140.73 \n",
       "  \"/>\n",
       "<path clip-path=\"url(#clip352)\" d=\"\n",
       "M1182.25 1188.45 L1182.25 1445.72 L1210.47 1445.72 L1210.47 1188.45 L1182.25 1188.45 L1182.25 1188.45  Z\n",
       "  \" fill=\"#009af9\" fill-rule=\"evenodd\" fill-opacity=\"1\"/>\n",
       "<polyline clip-path=\"url(#clip352)\" style=\"stroke:#000000; stroke-width:4; stroke-opacity:1; fill:none\" points=\"\n",
       "  1182.25,1188.45 1182.25,1445.72 1210.47,1445.72 1210.47,1188.45 1182.25,1188.45 \n",
       "  \"/>\n",
       "<path clip-path=\"url(#clip352)\" d=\"\n",
       "M1217.52 1235.91 L1217.52 1445.72 L1245.74 1445.72 L1245.74 1235.91 L1217.52 1235.91 L1217.52 1235.91  Z\n",
       "  \" fill=\"#009af9\" fill-rule=\"evenodd\" fill-opacity=\"1\"/>\n",
       "<polyline clip-path=\"url(#clip352)\" style=\"stroke:#000000; stroke-width:4; stroke-opacity:1; fill:none\" points=\"\n",
       "  1217.52,1235.91 1217.52,1445.72 1245.74,1445.72 1245.74,1235.91 1217.52,1235.91 \n",
       "  \"/>\n",
       "<path clip-path=\"url(#clip352)\" d=\"\n",
       "M1252.79 1268.93 L1252.79 1445.72 L1281.01 1445.72 L1281.01 1268.93 L1252.79 1268.93 L1252.79 1268.93  Z\n",
       "  \" fill=\"#009af9\" fill-rule=\"evenodd\" fill-opacity=\"1\"/>\n",
       "<polyline clip-path=\"url(#clip352)\" style=\"stroke:#000000; stroke-width:4; stroke-opacity:1; fill:none\" points=\"\n",
       "  1252.79,1268.93 1252.79,1445.72 1281.01,1445.72 1281.01,1268.93 1252.79,1268.93 \n",
       "  \"/>\n",
       "<path clip-path=\"url(#clip352)\" d=\"\n",
       "M1288.06 1399.78 L1288.06 1445.72 L1316.28 1445.72 L1316.28 1399.78 L1288.06 1399.78 L1288.06 1399.78  Z\n",
       "  \" fill=\"#009af9\" fill-rule=\"evenodd\" fill-opacity=\"1\"/>\n",
       "<polyline clip-path=\"url(#clip352)\" style=\"stroke:#000000; stroke-width:4; stroke-opacity:1; fill:none\" points=\"\n",
       "  1288.06,1399.78 1288.06,1445.72 1316.28,1445.72 1316.28,1399.78 1288.06,1399.78 \n",
       "  \"/>\n",
       "<path clip-path=\"url(#clip352)\" d=\"\n",
       "M1323.33 1238.46 L1323.33 1445.72 L1351.55 1445.72 L1351.55 1238.46 L1323.33 1238.46 L1323.33 1238.46  Z\n",
       "  \" fill=\"#009af9\" fill-rule=\"evenodd\" fill-opacity=\"1\"/>\n",
       "<polyline clip-path=\"url(#clip352)\" style=\"stroke:#000000; stroke-width:4; stroke-opacity:1; fill:none\" points=\"\n",
       "  1323.33,1238.46 1323.33,1445.72 1351.55,1445.72 1351.55,1238.46 1323.33,1238.46 \n",
       "  \"/>\n",
       "<path clip-path=\"url(#clip352)\" d=\"\n",
       "M1358.6 1189.69 L1358.6 1445.72 L1386.82 1445.72 L1386.82 1189.69 L1358.6 1189.69 L1358.6 1189.69  Z\n",
       "  \" fill=\"#009af9\" fill-rule=\"evenodd\" fill-opacity=\"1\"/>\n",
       "<polyline clip-path=\"url(#clip352)\" style=\"stroke:#000000; stroke-width:4; stroke-opacity:1; fill:none\" points=\"\n",
       "  1358.6,1189.69 1358.6,1445.72 1386.82,1445.72 1386.82,1189.69 1358.6,1189.69 \n",
       "  \"/>\n",
       "<path clip-path=\"url(#clip352)\" d=\"\n",
       "M1393.87 1189.69 L1393.87 1445.72 L1422.09 1445.72 L1422.09 1189.69 L1393.87 1189.69 L1393.87 1189.69  Z\n",
       "  \" fill=\"#009af9\" fill-rule=\"evenodd\" fill-opacity=\"1\"/>\n",
       "<polyline clip-path=\"url(#clip352)\" style=\"stroke:#000000; stroke-width:4; stroke-opacity:1; fill:none\" points=\"\n",
       "  1393.87,1189.69 1393.87,1445.72 1422.09,1445.72 1422.09,1189.69 1393.87,1189.69 \n",
       "  \"/>\n",
       "<path clip-path=\"url(#clip352)\" d=\"\n",
       "M1429.14 1115.06 L1429.14 1445.72 L1457.36 1445.72 L1457.36 1115.06 L1429.14 1115.06 L1429.14 1115.06  Z\n",
       "  \" fill=\"#009af9\" fill-rule=\"evenodd\" fill-opacity=\"1\"/>\n",
       "<polyline clip-path=\"url(#clip352)\" style=\"stroke:#000000; stroke-width:4; stroke-opacity:1; fill:none\" points=\"\n",
       "  1429.14,1115.06 1429.14,1445.72 1457.36,1445.72 1457.36,1115.06 1429.14,1115.06 \n",
       "  \"/>\n",
       "<path clip-path=\"url(#clip352)\" d=\"\n",
       "M1464.41 1058.4 L1464.41 1445.72 L1492.63 1445.72 L1492.63 1058.4 L1464.41 1058.4 L1464.41 1058.4  Z\n",
       "  \" fill=\"#009af9\" fill-rule=\"evenodd\" fill-opacity=\"1\"/>\n",
       "<polyline clip-path=\"url(#clip352)\" style=\"stroke:#000000; stroke-width:4; stroke-opacity:1; fill:none\" points=\"\n",
       "  1464.41,1058.4 1464.41,1445.72 1492.63,1445.72 1492.63,1058.4 1464.41,1058.4 \n",
       "  \"/>\n",
       "<path clip-path=\"url(#clip352)\" d=\"\n",
       "M1499.68 1058.4 L1499.68 1445.72 L1527.9 1445.72 L1527.9 1058.4 L1499.68 1058.4 L1499.68 1058.4  Z\n",
       "  \" fill=\"#009af9\" fill-rule=\"evenodd\" fill-opacity=\"1\"/>\n",
       "<polyline clip-path=\"url(#clip352)\" style=\"stroke:#000000; stroke-width:4; stroke-opacity:1; fill:none\" points=\"\n",
       "  1499.68,1058.4 1499.68,1445.72 1527.9,1445.72 1527.9,1058.4 1499.68,1058.4 \n",
       "  \"/>\n",
       "<path clip-path=\"url(#clip352)\" d=\"\n",
       "M1534.95 979.307 L1534.95 1445.72 L1563.17 1445.72 L1563.17 979.307 L1534.95 979.307 L1534.95 979.307  Z\n",
       "  \" fill=\"#009af9\" fill-rule=\"evenodd\" fill-opacity=\"1\"/>\n",
       "<polyline clip-path=\"url(#clip352)\" style=\"stroke:#000000; stroke-width:4; stroke-opacity:1; fill:none\" points=\"\n",
       "  1534.95,979.307 1534.95,1445.72 1563.17,1445.72 1563.17,979.307 1534.95,979.307 \n",
       "  \"/>\n",
       "<path clip-path=\"url(#clip352)\" d=\"\n",
       "M1570.22 1041.07 L1570.22 1445.72 L1598.44 1445.72 L1598.44 1041.07 L1570.22 1041.07 L1570.22 1041.07  Z\n",
       "  \" fill=\"#009af9\" fill-rule=\"evenodd\" fill-opacity=\"1\"/>\n",
       "<polyline clip-path=\"url(#clip352)\" style=\"stroke:#000000; stroke-width:4; stroke-opacity:1; fill:none\" points=\"\n",
       "  1570.22,1041.07 1570.22,1445.72 1598.44,1445.72 1598.44,1041.07 1570.22,1041.07 \n",
       "  \"/>\n",
       "<path clip-path=\"url(#clip352)\" d=\"\n",
       "M1605.49 870.299 L1605.49 1445.72 L1633.71 1445.72 L1633.71 870.299 L1605.49 870.299 L1605.49 870.299  Z\n",
       "  \" fill=\"#009af9\" fill-rule=\"evenodd\" fill-opacity=\"1\"/>\n",
       "<polyline clip-path=\"url(#clip352)\" style=\"stroke:#000000; stroke-width:4; stroke-opacity:1; fill:none\" points=\"\n",
       "  1605.49,870.299 1605.49,1445.72 1633.71,1445.72 1633.71,870.299 1605.49,870.299 \n",
       "  \"/>\n",
       "<path clip-path=\"url(#clip352)\" d=\"\n",
       "M1640.76 1041.07 L1640.76 1445.72 L1668.98 1445.72 L1668.98 1041.07 L1640.76 1041.07 L1640.76 1041.07  Z\n",
       "  \" fill=\"#009af9\" fill-rule=\"evenodd\" fill-opacity=\"1\"/>\n",
       "<polyline clip-path=\"url(#clip352)\" style=\"stroke:#000000; stroke-width:4; stroke-opacity:1; fill:none\" points=\"\n",
       "  1640.76,1041.07 1640.76,1445.72 1668.98,1445.72 1668.98,1041.07 1640.76,1041.07 \n",
       "  \"/>\n",
       "<path clip-path=\"url(#clip352)\" d=\"\n",
       "M1676.03 774.763 L1676.03 1445.72 L1704.25 1445.72 L1704.25 774.763 L1676.03 774.763 L1676.03 774.763  Z\n",
       "  \" fill=\"#009af9\" fill-rule=\"evenodd\" fill-opacity=\"1\"/>\n",
       "<polyline clip-path=\"url(#clip352)\" style=\"stroke:#000000; stroke-width:4; stroke-opacity:1; fill:none\" points=\"\n",
       "  1676.03,774.763 1676.03,1445.72 1704.25,1445.72 1704.25,774.763 1676.03,774.763 \n",
       "  \"/>\n",
       "<path clip-path=\"url(#clip352)\" d=\"\n",
       "M1711.31 728.239 L1711.31 1445.72 L1739.52 1445.72 L1739.52 728.239 L1711.31 728.239 L1711.31 728.239  Z\n",
       "  \" fill=\"#009af9\" fill-rule=\"evenodd\" fill-opacity=\"1\"/>\n",
       "<polyline clip-path=\"url(#clip352)\" style=\"stroke:#000000; stroke-width:4; stroke-opacity:1; fill:none\" points=\"\n",
       "  1711.31,728.239 1711.31,1445.72 1739.52,1445.72 1739.52,728.239 1711.31,728.239 \n",
       "  \"/>\n",
       "<path clip-path=\"url(#clip352)\" d=\"\n",
       "M1746.58 1041.07 L1746.58 1445.72 L1774.79 1445.72 L1774.79 1041.07 L1746.58 1041.07 L1746.58 1041.07  Z\n",
       "  \" fill=\"#009af9\" fill-rule=\"evenodd\" fill-opacity=\"1\"/>\n",
       "<polyline clip-path=\"url(#clip352)\" style=\"stroke:#000000; stroke-width:4; stroke-opacity:1; fill:none\" points=\"\n",
       "  1746.58,1041.07 1746.58,1445.72 1774.79,1445.72 1774.79,1041.07 1746.58,1041.07 \n",
       "  \"/>\n",
       "<path clip-path=\"url(#clip352)\" d=\"\n",
       "M1781.85 682.013 L1781.85 1445.72 L1810.06 1445.72 L1810.06 682.013 L1781.85 682.013 L1781.85 682.013  Z\n",
       "  \" fill=\"#009af9\" fill-rule=\"evenodd\" fill-opacity=\"1\"/>\n",
       "<polyline clip-path=\"url(#clip352)\" style=\"stroke:#000000; stroke-width:4; stroke-opacity:1; fill:none\" points=\"\n",
       "  1781.85,682.013 1781.85,1445.72 1810.06,1445.72 1810.06,682.013 1781.85,682.013 \n",
       "  \"/>\n",
       "<path clip-path=\"url(#clip352)\" d=\"\n",
       "M1817.12 609.018 L1817.12 1445.72 L1845.33 1445.72 L1845.33 609.018 L1817.12 609.018 L1817.12 609.018  Z\n",
       "  \" fill=\"#009af9\" fill-rule=\"evenodd\" fill-opacity=\"1\"/>\n",
       "<polyline clip-path=\"url(#clip352)\" style=\"stroke:#000000; stroke-width:4; stroke-opacity:1; fill:none\" points=\"\n",
       "  1817.12,609.018 1817.12,1445.72 1845.33,1445.72 1845.33,609.018 1817.12,609.018 \n",
       "  \"/>\n",
       "<path clip-path=\"url(#clip352)\" d=\"\n",
       "M1852.39 681.428 L1852.39 1445.72 L1880.6 1445.72 L1880.6 681.428 L1852.39 681.428 L1852.39 681.428  Z\n",
       "  \" fill=\"#009af9\" fill-rule=\"evenodd\" fill-opacity=\"1\"/>\n",
       "<polyline clip-path=\"url(#clip352)\" style=\"stroke:#000000; stroke-width:4; stroke-opacity:1; fill:none\" points=\"\n",
       "  1852.39,681.428 1852.39,1445.72 1880.6,1445.72 1880.6,681.428 1852.39,681.428 \n",
       "  \"/>\n",
       "<path clip-path=\"url(#clip352)\" d=\"\n",
       "M1887.66 502.291 L1887.66 1445.72 L1915.87 1445.72 L1915.87 502.291 L1887.66 502.291 L1887.66 502.291  Z\n",
       "  \" fill=\"#009af9\" fill-rule=\"evenodd\" fill-opacity=\"1\"/>\n",
       "<polyline clip-path=\"url(#clip352)\" style=\"stroke:#000000; stroke-width:4; stroke-opacity:1; fill:none\" points=\"\n",
       "  1887.66,502.291 1887.66,1445.72 1915.87,1445.72 1915.87,502.291 1887.66,502.291 \n",
       "  \"/>\n",
       "<path clip-path=\"url(#clip352)\" d=\"\n",
       "M1922.93 454.177 L1922.93 1445.72 L1951.14 1445.72 L1951.14 454.177 L1922.93 454.177 L1922.93 454.177  Z\n",
       "  \" fill=\"#009af9\" fill-rule=\"evenodd\" fill-opacity=\"1\"/>\n",
       "<polyline clip-path=\"url(#clip352)\" style=\"stroke:#000000; stroke-width:4; stroke-opacity:1; fill:none\" points=\"\n",
       "  1922.93,454.177 1922.93,1445.72 1951.14,1445.72 1951.14,454.177 1922.93,454.177 \n",
       "  \"/>\n",
       "<path clip-path=\"url(#clip352)\" d=\"\n",
       "M1958.2 454.177 L1958.2 1445.72 L1986.41 1445.72 L1986.41 454.177 L1958.2 454.177 L1958.2 454.177  Z\n",
       "  \" fill=\"#009af9\" fill-rule=\"evenodd\" fill-opacity=\"1\"/>\n",
       "<polyline clip-path=\"url(#clip352)\" style=\"stroke:#000000; stroke-width:4; stroke-opacity:1; fill:none\" points=\"\n",
       "  1958.2,454.177 1958.2,1445.72 1986.41,1445.72 1986.41,454.177 1958.2,454.177 \n",
       "  \"/>\n",
       "<path clip-path=\"url(#clip352)\" d=\"\n",
       "M1993.47 379.961 L1993.47 1445.72 L2021.69 1445.72 L2021.69 379.961 L1993.47 379.961 L1993.47 379.961  Z\n",
       "  \" fill=\"#009af9\" fill-rule=\"evenodd\" fill-opacity=\"1\"/>\n",
       "<polyline clip-path=\"url(#clip352)\" style=\"stroke:#000000; stroke-width:4; stroke-opacity:1; fill:none\" points=\"\n",
       "  1993.47,379.961 1993.47,1445.72 2021.69,1445.72 2021.69,379.961 1993.47,379.961 \n",
       "  \"/>\n",
       "<path clip-path=\"url(#clip352)\" d=\"\n",
       "M2028.74 450.016 L2028.74 1445.72 L2056.96 1445.72 L2056.96 450.016 L2028.74 450.016 L2028.74 450.016  Z\n",
       "  \" fill=\"#009af9\" fill-rule=\"evenodd\" fill-opacity=\"1\"/>\n",
       "<polyline clip-path=\"url(#clip352)\" style=\"stroke:#000000; stroke-width:4; stroke-opacity:1; fill:none\" points=\"\n",
       "  2028.74,450.016 2028.74,1445.72 2056.96,1445.72 2056.96,450.016 2028.74,450.016 \n",
       "  \"/>\n",
       "<path clip-path=\"url(#clip352)\" d=\"\n",
       "M2064.01 272.754 L2064.01 1445.72 L2092.23 1445.72 L2092.23 272.754 L2064.01 272.754 L2064.01 272.754  Z\n",
       "  \" fill=\"#009af9\" fill-rule=\"evenodd\" fill-opacity=\"1\"/>\n",
       "<polyline clip-path=\"url(#clip352)\" style=\"stroke:#000000; stroke-width:4; stroke-opacity:1; fill:none\" points=\"\n",
       "  2064.01,272.754 2064.01,1445.72 2092.23,1445.72 2092.23,272.754 2064.01,272.754 \n",
       "  \"/>\n",
       "<path clip-path=\"url(#clip352)\" d=\"\n",
       "M2099.28 272.754 L2099.28 1445.72 L2127.5 1445.72 L2127.5 272.754 L2099.28 272.754 L2099.28 272.754  Z\n",
       "  \" fill=\"#009af9\" fill-rule=\"evenodd\" fill-opacity=\"1\"/>\n",
       "<polyline clip-path=\"url(#clip352)\" style=\"stroke:#000000; stroke-width:4; stroke-opacity:1; fill:none\" points=\"\n",
       "  2099.28,272.754 2099.28,1445.72 2127.5,1445.72 2127.5,272.754 2099.28,272.754 \n",
       "  \"/>\n",
       "<path clip-path=\"url(#clip352)\" d=\"\n",
       "M2134.55 162.55 L2134.55 1445.72 L2162.77 1445.72 L2162.77 162.55 L2134.55 162.55 L2134.55 162.55  Z\n",
       "  \" fill=\"#009af9\" fill-rule=\"evenodd\" fill-opacity=\"1\"/>\n",
       "<polyline clip-path=\"url(#clip352)\" style=\"stroke:#000000; stroke-width:4; stroke-opacity:1; fill:none\" points=\"\n",
       "  2134.55,162.55 2134.55,1445.72 2162.77,1445.72 2162.77,162.55 2134.55,162.55 \n",
       "  \"/>\n",
       "<path clip-path=\"url(#clip352)\" d=\"\n",
       "M2169.82 272.754 L2169.82 1445.72 L2198.04 1445.72 L2198.04 272.754 L2169.82 272.754 L2169.82 272.754  Z\n",
       "  \" fill=\"#009af9\" fill-rule=\"evenodd\" fill-opacity=\"1\"/>\n",
       "<polyline clip-path=\"url(#clip352)\" style=\"stroke:#000000; stroke-width:4; stroke-opacity:1; fill:none\" points=\"\n",
       "  2169.82,272.754 2169.82,1445.72 2198.04,1445.72 2198.04,272.754 2169.82,272.754 \n",
       "  \"/>\n",
       "<path clip-path=\"url(#clip352)\" d=\"\n",
       "M2205.09 272.754 L2205.09 1445.72 L2233.31 1445.72 L2233.31 272.754 L2205.09 272.754 L2205.09 272.754  Z\n",
       "  \" fill=\"#009af9\" fill-rule=\"evenodd\" fill-opacity=\"1\"/>\n",
       "<polyline clip-path=\"url(#clip352)\" style=\"stroke:#000000; stroke-width:4; stroke-opacity:1; fill:none\" points=\"\n",
       "  2205.09,272.754 2205.09,1445.72 2233.31,1445.72 2233.31,272.754 2205.09,272.754 \n",
       "  \"/>\n",
       "</svg>\n"
      ]
     },
     "execution_count": 31,
     "metadata": {},
     "output_type": "execute_result"
    }
   ],
   "source": [
    "using Plots\n",
    "xs = 0:54\n",
    "ys = map(x -> abs(derivative(f,2.0^-x) - exact_df), xs)\n",
    "\n",
    "bar(xs, ys, legend=false, yaxis=:log)"
   ]
  },
  {
   "cell_type": "markdown",
   "metadata": {},
   "source": [
    "Najlepsze przybliżenie uzyskujemy dla $h=2^{-28}$. Dalsze zmniejszanie wartości $h$ powoduje ponowny wzrost błędu. Przyjrzyjmy się wartościom przyjmowanym przez $1+h$:"
   ]
  },
  {
   "cell_type": "code",
   "execution_count": 32,
   "metadata": {},
   "outputs": [
    {
     "name": "stdout",
     "output_type": "stream",
     "text": [
      "h         1+h                           f(1+h)                        f(1+h)-f(1)                   \n",
      "----------------------------------------------------------------------------------------------------\n",
      "2^-1      1.5                           0.7866991871732747            0.9352206989658236            \n",
      "2^-2      1.25                          0.12842526201602544           0.27694677380857435           \n",
      "2^-3      1.125                         -0.0706163518803512           0.07790515991219771           \n",
      "2^-4      1.0625                        -0.12537150765482896          0.02315000413771995           \n",
      "2^-5      1.03125                       -0.14091391571762557          0.0076075960749233396         \n",
      "2^-6      1.015625                      -0.1457074873658719           0.0028140244266769976         \n",
      "2^-7      1.0078125                     -0.14736142276621222          0.0011600890263366859         \n",
      "2^-8      1.00390625                    -0.14800311681489065          0.0005183949776582653         \n",
      "2^-9      1.001953125                   -0.1482777155172741           0.00024379627527482128        \n",
      "2^-10     1.0009765625                  -0.1484034624987881           0.00011804929376080242        \n",
      "2^-11     1.00048828125                 -0.14846344917024967          5.806262229923753e-5          \n",
      "2^-12     1.000244140625                -0.14849272096399935          2.8790828549563052e-5         \n",
      "2^-13     1.0001220703125               -0.14850717649596556          1.4335296583345425e-5         \n",
      "2^-14     1.00006103515625              -0.14851435917330935          7.152619239558788e-6          \n",
      "2^-15     1.000030517578125             -0.14851793924014578          3.57255240313048e-6           \n",
      "2^-16     1.0000152587890625            -0.1485197264556457           1.7853369032039268e-6         \n",
      "2^-17     1.0000076293945312            -0.14852061935892114          8.924336277749134e-7          \n",
      "2^-18     1.0000038146972656            -0.1485210656344409           4.4615810801396094e-7         \n",
      "2^-19     1.0000019073486328            -0.14852128872817139          2.2306437752472874e-7         \n",
      "2^-20     1.0000009536743164            -0.14852140026402927          1.1152851964180144e-7         \n",
      "2^-21     1.0000004768371582            -0.1485214560292064           5.576334249912662e-8          \n",
      "2^-22     1.000000238418579             -0.1485214839111071           2.7881441821975272e-8         \n",
      "2^-23     1.0000001192092896            -0.1485214978518853           1.3940663623479566e-8         \n",
      "2^-24     1.0000000596046448            -0.14852150482223148          6.970317434351614e-9          \n",
      "2^-25     1.0000000298023224            -0.14852150830739386          3.4851550534398257e-9         \n",
      "2^-26     1.0000000149011612            -0.14852151004997227          1.7425766385414931e-9         \n",
      "2^-27     1.0000000074505806            -0.14852151092126076          8.712881527372929e-10         \n",
      "2^-28     1.0000000037252903            -0.14852151135690494          4.35643965346344e-10          \n",
      "2^-29     1.0000000018626451            -0.14852151157472704          2.1782187165086953e-10        \n",
      "2^-30     1.0000000009313226            -0.14852151168363803          1.0891088031428353e-10        \n",
      "2^-31     1.0000000004656613            -0.14852151173809347          5.4455440157141766e-11        \n",
      "2^-32     1.0000000002328306            -0.14852151176532125          2.722766456741965e-11         \n",
      "2^-33     1.0000000001164153            -0.14852151177893513          1.3613776772558595e-11        \n",
      "2^-34     1.0000000000582077            -0.14852151178574202          6.806888386279297e-12         \n",
      "2^-35     1.0000000000291038            -0.14852151178914552          3.4033886819884174e-12        \n",
      "2^-36     1.000000000014552             -0.14852151179084716          1.70174985214544e-12          \n",
      "2^-37     1.000000000007276             -0.14852151179169815          8.507639037702575e-13         \n",
      "2^-38     1.000000000003638             -0.14852151179212347          4.2543746303636e-13           \n",
      "2^-39     1.000000000001819             -0.1485215117923363           2.1260770921571748e-13        \n",
      "2^-40     1.0000000000009095            -0.14852151179244266          1.0624834345662748e-13        \n",
      "2^-41     1.0000000000004547            -0.14852151179249573          5.3179682879545e-14           \n",
      "2^-42     1.0000000000002274            -0.14852151179252238          2.653433028854124e-14         \n",
      "2^-43     1.0000000000001137            -0.1485215117925357           1.3211653993039363e-14        \n",
      "2^-44     1.0000000000000568            -0.14852151179254225          6.661338147750939e-15         \n",
      "2^-45     1.0000000000000284            -0.1485215117925457           3.219646771412954e-15         \n",
      "2^-46     1.0000000000000142            -0.14852151179254736          1.5543122344752192e-15        \n",
      "2^-47     1.000000000000007             -0.14852151179254813          7.771561172376096e-16         \n",
      "2^-48     1.0000000000000036            -0.14852151179254858          3.3306690738754696e-16        \n",
      "2^-49     1.0000000000000018            -0.1485215117925487           2.220446049250313e-16         \n",
      "2^-50     1.0000000000000009            -0.1485215117925489           0.0                           \n",
      "2^-51     1.0000000000000004            -0.1485215117925489           0.0                           \n",
      "2^-52     1.0000000000000002            -0.14852151179254902          -1.1102230246251565e-16       \n",
      "2^-53     1.0                           -0.1485215117925489           0.0                           \n",
      "2^-54     1.0                           -0.1485215117925489           0.0                           \n"
     ]
    }
   ],
   "source": [
    "println(rpad(\"h\", 10), rpad(\"1+h\", 30), rpad(\"f(1+h)\", 30), rpad(\"f(1+h)-f(1)\", 30))\n",
    "println(\"-\"^100)\n",
    "for i in 1:54\n",
    "    println(rpad(\"2^-$i\", 10), rpad(1.0+2.0^-i, 30), rpad(f(1.0+2.0^-i), 30), rpad(f(1.0+2.0^-i)-f(1.0), 30))\n",
    "end"
   ]
  },
  {
   "cell_type": "markdown",
   "metadata": {},
   "source": [
    "Wartość funkcji $f$ w punkcie 1 wynosi natomiast"
   ]
  },
  {
   "cell_type": "code",
   "execution_count": 33,
   "metadata": {},
   "outputs": [
    {
     "data": {
      "text/plain": [
       "-0.1485215117925489"
      ]
     },
     "execution_count": 33,
     "metadata": {},
     "output_type": "execute_result"
    }
   ],
   "source": [
    "f(1.0)"
   ]
  },
  {
   "cell_type": "markdown",
   "metadata": {},
   "source": [
    "Widać zatem, jak dla niewielkich wartości $h$ w liczniku wzoru na $\\tilde{f}$ pojawia się odejmowanie skutkujące utratą cyfr znaczących. Można również zaobserwować, że dla $h \\le 2^{-53}$ w arytmetyce Float64 mamy $1+h=1$, a więc $f(1+h)-f(1)=0$, stąd dalsze zmniejszanie $h$ nie spowoduje już zmiany w jakości przybliżenia. "
   ]
  },
  {
   "cell_type": "markdown",
   "metadata": {},
   "source": [
    "### Wnioski\n",
    "Nie każdy wzór można w oczywisty sposób przekształcić do formy pozwalającej uniknąć utraty cyfr znaczących podczas odejmowania. Występujące błędy obliczeniowe zaprzeczają matematycznej intuicji, zgodnie z którą podstawianie coraz mniejszych $h$ prowadziłoby do poprawy dokładności przybliżenia."
   ]
  }
 ],
 "metadata": {
  "kernelspec": {
   "display_name": "Julia 1.5.2",
   "language": "julia",
   "name": "julia-1.5"
  },
  "language_info": {
   "file_extension": ".jl",
   "mimetype": "application/julia",
   "name": "julia",
   "version": "1.5.2"
  }
 },
 "nbformat": 4,
 "nbformat_minor": 2
}
